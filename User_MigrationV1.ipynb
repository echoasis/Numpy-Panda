{
 "cells": [
  {
   "cell_type": "markdown",
   "metadata": {},
   "source": [
    "## Import & Merge Data"
   ]
  },
  {
   "cell_type": "code",
   "execution_count": 1,
   "metadata": {},
   "outputs": [],
   "source": [
    "import datetime\n",
    "import os\n",
    "import sys\n",
    "import re\n",
    "\n",
    "import io\n",
    "import numpy as np\n",
    "import pandas as pd\n",
    "import pymysql.cursors\n",
    "from sqlalchemy import create_engine"
   ]
  },
  {
   "cell_type": "code",
   "execution_count": 25,
   "metadata": {},
   "outputs": [
    {
     "name": "stdout",
     "output_type": "stream",
     "text": [
      "The jupyternotify extension is already loaded. To reload it, use:\n",
      "  %reload_ext jupyternotify\n"
     ]
    }
   ],
   "source": [
    "import psycopg2 as pg\n",
    "import seaborn as sns\n",
    "import matplotlib.pyplot as plt\n",
    "%matplotlib inline\n",
    "%load_ext jupyternotify"
   ]
  },
  {
   "cell_type": "code",
   "execution_count": 10,
   "metadata": {},
   "outputs": [],
   "source": [
    "Athena=pd.read_csv('/Users/wangecho/Documents/User_Migration/V3/Athena_data2.csv')\n",
    "video_pd=pd.read_csv('/Users/wangecho/Documents/User_Migration/V3/Video_IDs.csv')"
   ]
  },
  {
   "cell_type": "code",
   "execution_count": 4,
   "metadata": {},
   "outputs": [
    {
     "data": {
      "text/html": [
       "<div>\n",
       "<style scoped>\n",
       "    .dataframe tbody tr th:only-of-type {\n",
       "        vertical-align: middle;\n",
       "    }\n",
       "\n",
       "    .dataframe tbody tr th {\n",
       "        vertical-align: top;\n",
       "    }\n",
       "\n",
       "    .dataframe thead th {\n",
       "        text-align: right;\n",
       "    }\n",
       "</style>\n",
       "<table border=\"1\" class=\"dataframe\">\n",
       "  <thead>\n",
       "    <tr style=\"text-align: right;\">\n",
       "      <th></th>\n",
       "      <th>channel_id</th>\n",
       "      <th>video_id</th>\n",
       "      <th>channel_name</th>\n",
       "      <th>video_name</th>\n",
       "      <th>category</th>\n",
       "      <th>view_count</th>\n",
       "      <th>comment_count</th>\n",
       "      <th>length</th>\n",
       "      <th>shares</th>\n",
       "      <th>likes</th>\n",
       "      <th>dislikes</th>\n",
       "      <th>avg_view_percent</th>\n",
       "      <th>end_screen_element_id</th>\n",
       "      <th>end_screen_element_type</th>\n",
       "      <th>impressions</th>\n",
       "      <th>clicks</th>\n",
       "      <th>ctr</th>\n",
       "    </tr>\n",
       "  </thead>\n",
       "  <tbody>\n",
       "    <tr>\n",
       "      <th>0</th>\n",
       "      <td>UCboMX_UNgaPBsUOIgasn3-Q</td>\n",
       "      <td>bMgv9pK1R70</td>\n",
       "      <td>Funhaus</td>\n",
       "      <td>ERECTILE DESTRUCTION - Demo Disk Gameplay</td>\n",
       "      <td>Gadgets &amp; Games</td>\n",
       "      <td>635535</td>\n",
       "      <td>739</td>\n",
       "      <td>805</td>\n",
       "      <td>102</td>\n",
       "      <td>1316</td>\n",
       "      <td>16</td>\n",
       "      <td>36.539130</td>\n",
       "      <td>1cb300ad-e948-4ed8-873a-83cee92b77cc</td>\n",
       "      <td>playlist</td>\n",
       "      <td>63242</td>\n",
       "      <td>2844</td>\n",
       "      <td>0.044970</td>\n",
       "    </tr>\n",
       "    <tr>\n",
       "      <th>1</th>\n",
       "      <td>UCB9_VH_CNbbH4GfKu8qh63w</td>\n",
       "      <td>YgFxjaQIQ1c</td>\n",
       "      <td>ScrewAttack</td>\n",
       "      <td>Pokemon Minus Misty's Voltorbs | The Desk of D...</td>\n",
       "      <td>Entertainment</td>\n",
       "      <td>99540</td>\n",
       "      <td>410</td>\n",
       "      <td>319</td>\n",
       "      <td>201</td>\n",
       "      <td>3934</td>\n",
       "      <td>147</td>\n",
       "      <td>15.298748</td>\n",
       "      <td>63b98e01-0d1d-48d4-bcab-efec9d1c3089</td>\n",
       "      <td>video</td>\n",
       "      <td>53428</td>\n",
       "      <td>804</td>\n",
       "      <td>0.015048</td>\n",
       "    </tr>\n",
       "    <tr>\n",
       "      <th>2</th>\n",
       "      <td>UCB9_VH_CNbbH4GfKu8qh63w</td>\n",
       "      <td>YgFxjaQIQ1c</td>\n",
       "      <td>ScrewAttack</td>\n",
       "      <td>11162018DeskofPokemonMinusMistysVoltorbsYT</td>\n",
       "      <td>Entertainment</td>\n",
       "      <td>0</td>\n",
       "      <td>0</td>\n",
       "      <td>319</td>\n",
       "      <td>201</td>\n",
       "      <td>3934</td>\n",
       "      <td>147</td>\n",
       "      <td>15.298748</td>\n",
       "      <td>63b98e01-0d1d-48d4-bcab-efec9d1c3089</td>\n",
       "      <td>video</td>\n",
       "      <td>53428</td>\n",
       "      <td>804</td>\n",
       "      <td>0.015048</td>\n",
       "    </tr>\n",
       "    <tr>\n",
       "      <th>3</th>\n",
       "      <td>UCB9_VH_CNbbH4GfKu8qh63w</td>\n",
       "      <td>bBmUNjTRvAE</td>\n",
       "      <td>ScrewAttack</td>\n",
       "      <td>Top 10 Nightmare Fuel in Kids Movies</td>\n",
       "      <td>Entertainment</td>\n",
       "      <td>90014</td>\n",
       "      <td>728</td>\n",
       "      <td>713</td>\n",
       "      <td>231</td>\n",
       "      <td>3488</td>\n",
       "      <td>97</td>\n",
       "      <td>14.412903</td>\n",
       "      <td>752a25a4-eb34-433f-8ce3-b6bf61340303</td>\n",
       "      <td>associated</td>\n",
       "      <td>39921</td>\n",
       "      <td>18</td>\n",
       "      <td>0.000451</td>\n",
       "    </tr>\n",
       "    <tr>\n",
       "      <th>4</th>\n",
       "      <td>UCzH3iADRIq1IJlIXjfNgTpA</td>\n",
       "      <td>FeQ-QlTGiPQ</td>\n",
       "      <td>Rooster Teeth</td>\n",
       "      <td>Rooster Teeth Animated Adventures - Crazy Taxi</td>\n",
       "      <td>Film &amp; Animation</td>\n",
       "      <td>951214</td>\n",
       "      <td>319</td>\n",
       "      <td>131</td>\n",
       "      <td>390</td>\n",
       "      <td>5645</td>\n",
       "      <td>47</td>\n",
       "      <td>42.481294</td>\n",
       "      <td>3e0c8dc8-3ce5-f7a0-346b-83325f0a7a50</td>\n",
       "      <td>video</td>\n",
       "      <td>104598</td>\n",
       "      <td>435</td>\n",
       "      <td>0.004159</td>\n",
       "    </tr>\n",
       "  </tbody>\n",
       "</table>\n",
       "</div>"
      ],
      "text/plain": [
       "                 channel_id     video_id   channel_name  \\\n",
       "0  UCboMX_UNgaPBsUOIgasn3-Q  bMgv9pK1R70        Funhaus   \n",
       "1  UCB9_VH_CNbbH4GfKu8qh63w  YgFxjaQIQ1c    ScrewAttack   \n",
       "2  UCB9_VH_CNbbH4GfKu8qh63w  YgFxjaQIQ1c    ScrewAttack   \n",
       "3  UCB9_VH_CNbbH4GfKu8qh63w  bBmUNjTRvAE    ScrewAttack   \n",
       "4  UCzH3iADRIq1IJlIXjfNgTpA  FeQ-QlTGiPQ  Rooster Teeth   \n",
       "\n",
       "                                          video_name          category  \\\n",
       "0          ERECTILE DESTRUCTION - Demo Disk Gameplay   Gadgets & Games   \n",
       "1  Pokemon Minus Misty's Voltorbs | The Desk of D...     Entertainment   \n",
       "2         11162018DeskofPokemonMinusMistysVoltorbsYT     Entertainment   \n",
       "3               Top 10 Nightmare Fuel in Kids Movies     Entertainment   \n",
       "4     Rooster Teeth Animated Adventures - Crazy Taxi  Film & Animation   \n",
       "\n",
       "   view_count  comment_count  length  shares  likes  dislikes  \\\n",
       "0      635535            739     805     102   1316        16   \n",
       "1       99540            410     319     201   3934       147   \n",
       "2           0              0     319     201   3934       147   \n",
       "3       90014            728     713     231   3488        97   \n",
       "4      951214            319     131     390   5645        47   \n",
       "\n",
       "   avg_view_percent                 end_screen_element_id  \\\n",
       "0         36.539130  1cb300ad-e948-4ed8-873a-83cee92b77cc   \n",
       "1         15.298748  63b98e01-0d1d-48d4-bcab-efec9d1c3089   \n",
       "2         15.298748  63b98e01-0d1d-48d4-bcab-efec9d1c3089   \n",
       "3         14.412903  752a25a4-eb34-433f-8ce3-b6bf61340303   \n",
       "4         42.481294  3e0c8dc8-3ce5-f7a0-346b-83325f0a7a50   \n",
       "\n",
       "  end_screen_element_type  impressions  clicks       ctr  \n",
       "0                playlist        63242    2844  0.044970  \n",
       "1                   video        53428     804  0.015048  \n",
       "2                   video        53428     804  0.015048  \n",
       "3              associated        39921      18  0.000451  \n",
       "4                   video       104598     435  0.004159  "
      ]
     },
     "execution_count": 4,
     "metadata": {},
     "output_type": "execute_result"
    }
   ],
   "source": [
    "Athena.head()"
   ]
  },
  {
   "cell_type": "code",
   "execution_count": 11,
   "metadata": {},
   "outputs": [
    {
     "data": {
      "text/html": [
       "<div>\n",
       "<style scoped>\n",
       "    .dataframe tbody tr th:only-of-type {\n",
       "        vertical-align: middle;\n",
       "    }\n",
       "\n",
       "    .dataframe tbody tr th {\n",
       "        vertical-align: top;\n",
       "    }\n",
       "\n",
       "    .dataframe thead th {\n",
       "        text-align: right;\n",
       "    }\n",
       "</style>\n",
       "<table border=\"1\" class=\"dataframe\">\n",
       "  <thead>\n",
       "    <tr style=\"text-align: right;\">\n",
       "      <th></th>\n",
       "      <th>video_id</th>\n",
       "    </tr>\n",
       "  </thead>\n",
       "  <tbody>\n",
       "    <tr>\n",
       "      <th>0</th>\n",
       "      <td>FGlPKEMs_zs</td>\n",
       "    </tr>\n",
       "    <tr>\n",
       "      <th>1</th>\n",
       "      <td>W1Yx4lyavus</td>\n",
       "    </tr>\n",
       "    <tr>\n",
       "      <th>2</th>\n",
       "      <td>wG40XZay_7g</td>\n",
       "    </tr>\n",
       "    <tr>\n",
       "      <th>3</th>\n",
       "      <td>i6IrPzOcAaI</td>\n",
       "    </tr>\n",
       "    <tr>\n",
       "      <th>4</th>\n",
       "      <td>XfD8koJae10</td>\n",
       "    </tr>\n",
       "  </tbody>\n",
       "</table>\n",
       "</div>"
      ],
      "text/plain": [
       "      video_id\n",
       "0  FGlPKEMs_zs\n",
       "1  W1Yx4lyavus\n",
       "2  wG40XZay_7g\n",
       "3  i6IrPzOcAaI\n",
       "4  XfD8koJae10"
      ]
     },
     "execution_count": 11,
     "metadata": {},
     "output_type": "execute_result"
    }
   ],
   "source": [
    "video_pd = video_pd.rename({'Video_ID': 'video_id'}, axis=1)\n",
    "video_pd.head()"
   ]
  },
  {
   "cell_type": "code",
   "execution_count": 12,
   "metadata": {},
   "outputs": [],
   "source": [
    "#Only going to focus on the videos in the list\n",
    "Athena2=pd.merge(video_pd, Athena, how='inner',on='video_id')"
   ]
  },
  {
   "cell_type": "markdown",
   "metadata": {},
   "source": [
    "## Initial data cleaning"
   ]
  },
  {
   "cell_type": "code",
   "execution_count": 95,
   "metadata": {},
   "outputs": [
    {
     "data": {
      "text/plain": [
       "0"
      ]
     },
     "execution_count": 95,
     "metadata": {},
     "output_type": "execute_result"
    }
   ],
   "source": [
    "Athena2['length'].describe()\n",
    "Athena2['view_count'].min()\n",
    "Athena2['comment_count'].min()"
   ]
  },
  {
   "cell_type": "code",
   "execution_count": 96,
   "metadata": {},
   "outputs": [],
   "source": [
    "#remove videos <25 sec due to only videos > 25 sec can have endscreens\n",
    "data1=Athena2.loc[Athena2['length']>=25]\n",
    "#data1=data1.loc[data1['view_count']>=0]\n",
    "#data1=data1.loc[data1['comment_count']>=0]"
   ]
  },
  {
   "cell_type": "code",
   "execution_count": 99,
   "metadata": {},
   "outputs": [
    {
     "data": {
      "text/plain": [
       "count    53393.000000\n",
       "mean        27.405802\n",
       "std        192.293589\n",
       "min       -146.000000\n",
       "25%          1.000000\n",
       "50%          4.000000\n",
       "75%         14.000000\n",
       "max       8004.000000\n",
       "Name: dislikes, dtype: float64"
      ]
     },
     "execution_count": 99,
     "metadata": {},
     "output_type": "execute_result"
    }
   ],
   "source": [
    "data1['likes'].describe()\n",
    "data1['dislikes'].describe()"
   ]
  },
  {
   "cell_type": "code",
   "execution_count": 100,
   "metadata": {},
   "outputs": [],
   "source": [
    "# remove bad data points\n",
    "#data1=data1.loc[data1['shares']>=0]\n",
    "data1=data1.loc[data1['likes']>=0]\n",
    "data1=data1.loc[data1['dislikes']>=0]"
   ]
  },
  {
   "cell_type": "code",
   "execution_count": 101,
   "metadata": {},
   "outputs": [
    {
     "data": {
      "text/plain": [
       "video_id                   False\n",
       "channel_id                 False\n",
       "channel_name               False\n",
       "video_name                 False\n",
       "category                   False\n",
       "view_count                 False\n",
       "comment_count              False\n",
       "length                     False\n",
       "shares                     False\n",
       "likes                      False\n",
       "dislikes                   False\n",
       "avg_view_percent            True\n",
       "end_screen_element_id      False\n",
       "end_screen_element_type    False\n",
       "impressions                False\n",
       "clicks                     False\n",
       "ctr                        False\n",
       "dtype: bool"
      ]
     },
     "execution_count": 101,
     "metadata": {},
     "output_type": "execute_result"
    }
   ],
   "source": [
    "# Check if NA exists\n",
    "data1.isnull().any()"
   ]
  },
  {
   "cell_type": "code",
   "execution_count": 102,
   "metadata": {},
   "outputs": [
    {
     "data": {
      "text/plain": [
       "97"
      ]
     },
     "execution_count": 102,
     "metadata": {},
     "output_type": "execute_result"
    }
   ],
   "source": [
    "len(data1['avg_view_percent'].loc[data1['avg_view_percent'].isnull()])\n"
   ]
  },
  {
   "cell_type": "code",
   "execution_count": 103,
   "metadata": {},
   "outputs": [],
   "source": [
    "# remove NA from data\n",
    "data1=data1.loc[~data1['avg_view_percent'].isnull()]"
   ]
  },
  {
   "cell_type": "code",
   "execution_count": 104,
   "metadata": {},
   "outputs": [
    {
     "data": {
      "text/plain": [
       "count    48508.000000\n",
       "mean        10.496912\n",
       "std         13.236911\n",
       "min          0.000000\n",
       "25%          0.980998\n",
       "50%          4.545455\n",
       "75%         15.620000\n",
       "max        240.000000\n",
       "Name: avg_view_percent, dtype: float64"
      ]
     },
     "execution_count": 104,
     "metadata": {},
     "output_type": "execute_result"
    }
   ],
   "source": [
    "data1['avg_view_percent'].describe()"
   ]
  },
  {
   "cell_type": "code",
   "execution_count": 106,
   "metadata": {},
   "outputs": [],
   "source": [
    "# remove bad data with avg_view_percent >100%\n",
    "data1['avg_view_percent'].loc[data1['avg_view_percent']>100]\n",
    "data1=data1.loc[data1['avg_view_percent']<=100]"
   ]
  },
  {
   "cell_type": "code",
   "execution_count": 142,
   "metadata": {},
   "outputs": [
    {
     "data": {
      "text/plain": [
       "0.10364168763145956"
      ]
     },
     "execution_count": 142,
     "metadata": {},
     "output_type": "execute_result"
    }
   ],
   "source": [
    "len(data.loc[(data['avg_view_percent']==0)&(data['impressions']!=0)])/len(data['avg_view_percent'])\n",
    "# 10% data has avg_view_percent=0 but impressions not 0. Seems to be bad data. "
   ]
  },
  {
   "cell_type": "markdown",
   "metadata": {},
   "source": [
    "##### Needs to be more mindful in pulling data for the actual model !!!"
   ]
  },
  {
   "cell_type": "code",
   "execution_count": 143,
   "metadata": {},
   "outputs": [],
   "source": [
    "# remove bad data with avg_view_percent =0\n",
    "data1=data1.loc[data1['avg_view_percent']!=0]"
   ]
  },
  {
   "cell_type": "code",
   "execution_count": 145,
   "metadata": {},
   "outputs": [
    {
     "data": {
      "text/plain": [
       "<matplotlib.axes._subplots.AxesSubplot at 0x1178bc7b8>"
      ]
     },
     "execution_count": 145,
     "metadata": {},
     "output_type": "execute_result"
    },
    {
     "data": {
      "image/png": "[encoded data removed]",
      "text/plain": [
       "<matplotlib.figure.Figure at 0x11783a240>"
      ]
     },
     "metadata": {},
     "output_type": "display_data"
    }
   ],
   "source": [
    "sns.kdeplot(data1['avg_view_percent'])\n"
   ]
  },
  {
   "cell_type": "code",
   "execution_count": 146,
   "metadata": {},
   "outputs": [
    {
     "data": {
      "text/plain": [
       "count    43468.000000\n",
       "mean        11.701255\n",
       "std         13.375207\n",
       "min          0.001488\n",
       "25%          1.854139\n",
       "50%          5.883270\n",
       "75%         17.974928\n",
       "max        100.000000\n",
       "Name: avg_view_percent, dtype: float64"
      ]
     },
     "execution_count": 146,
     "metadata": {},
     "output_type": "execute_result"
    }
   ],
   "source": [
    "data1['avg_view_percent'].describe()"
   ]
  },
  {
   "cell_type": "code",
   "execution_count": 108,
   "metadata": {},
   "outputs": [
    {
     "data": {
      "text/plain": [
       "Index(['video_id', 'channel_id', 'channel_name', 'video_name', 'category',\n",
       "       'view_count', 'comment_count', 'length', 'shares', 'likes', 'dislikes',\n",
       "       'avg_view_percent', 'end_screen_element_id', 'end_screen_element_type',\n",
       "       'impressions', 'clicks', 'ctr'],\n",
       "      dtype='object')"
      ]
     },
     "execution_count": 108,
     "metadata": {},
     "output_type": "execute_result"
    }
   ],
   "source": [
    "data1.columns"
   ]
  },
  {
   "cell_type": "code",
   "execution_count": 148,
   "metadata": {},
   "outputs": [
    {
     "data": {
      "text/plain": [
       "<matplotlib.axes._subplots.AxesSubplot at 0x117fa9f98>"
      ]
     },
     "execution_count": 148,
     "metadata": {},
     "output_type": "execute_result"
    },
    {
     "data": {
      "image/png": "[encoded data removed]",
      "text/plain": [
       "<matplotlib.figure.Figure at 0x110593588>"
      ]
     },
     "metadata": {},
     "output_type": "display_data"
    }
   ],
   "source": [
    "sns.kdeplot(data1['impressions'])\n"
   ]
  },
  {
   "cell_type": "code",
   "execution_count": 149,
   "metadata": {},
   "outputs": [
    {
     "data": {
      "text/plain": [
       "count     43468.000000\n",
       "mean       6095.478007\n",
       "std       23000.306147\n",
       "min           1.000000\n",
       "25%          15.000000\n",
       "50%         141.000000\n",
       "75%        1754.250000\n",
       "max      409430.000000\n",
       "Name: impressions, dtype: float64"
      ]
     },
     "execution_count": 149,
     "metadata": {},
     "output_type": "execute_result"
    }
   ],
   "source": [
    "data1['impressions'].describe()"
   ]
  },
  {
   "cell_type": "code",
   "execution_count": 150,
   "metadata": {},
   "outputs": [
    {
     "data": {
      "text/plain": [
       "count    43468.000000\n",
       "mean         0.007585\n",
       "std          0.022978\n",
       "min          0.000000\n",
       "25%          0.000000\n",
       "50%          0.000000\n",
       "75%          0.006152\n",
       "max          0.500000\n",
       "Name: ctr, dtype: float64"
      ]
     },
     "execution_count": 150,
     "metadata": {},
     "output_type": "execute_result"
    }
   ],
   "source": [
    "data1['ctr'].describe()"
   ]
  },
  {
   "cell_type": "code",
   "execution_count": 151,
   "metadata": {},
   "outputs": [
    {
     "data": {
      "text/plain": [
       "22341"
      ]
     },
     "execution_count": 151,
     "metadata": {},
     "output_type": "execute_result"
    }
   ],
   "source": [
    "len(data1['ctr'].loc[data1['ctr']==0.000000])"
   ]
  },
  {
   "cell_type": "code",
   "execution_count": 152,
   "metadata": {},
   "outputs": [],
   "source": [
    "# remove data points with ctr=1\n",
    "data1=data1.loc[data1['ctr']!=1]"
   ]
  },
  {
   "cell_type": "code",
   "execution_count": 153,
   "metadata": {},
   "outputs": [
    {
     "data": {
      "text/plain": [
       "count    43468.000000\n",
       "mean         0.007585\n",
       "std          0.022978\n",
       "min          0.000000\n",
       "25%          0.000000\n",
       "50%          0.000000\n",
       "75%          0.006152\n",
       "max          0.500000\n",
       "Name: ctr, dtype: float64"
      ]
     },
     "execution_count": 153,
     "metadata": {},
     "output_type": "execute_result"
    }
   ],
   "source": [
    "data1.ctr.describe()"
   ]
  },
  {
   "cell_type": "code",
   "execution_count": 154,
   "metadata": {},
   "outputs": [
    {
     "data": {
      "text/plain": [
       "0.1837903745283887"
      ]
     },
     "execution_count": 154,
     "metadata": {},
     "output_type": "execute_result"
    }
   ],
   "source": [
    "len(data1['ctr'].loc[data1['ctr']>=0.01])/len(data1['ctr']) #about 18% videos have CTR >=0.01"
   ]
  },
  {
   "cell_type": "code",
   "execution_count": 155,
   "metadata": {},
   "outputs": [
    {
     "data": {
      "text/plain": [
       "<matplotlib.lines.Line2D at 0x110599208>"
      ]
     },
     "execution_count": 155,
     "metadata": {},
     "output_type": "execute_result"
    },
    {
     "data": {
      "image/png": "[encoded data removed]",
      "text/plain": [
       "<matplotlib.figure.Figure at 0x11818b438>"
      ]
     },
     "metadata": {},
     "output_type": "display_data"
    }
   ],
   "source": [
    "data1.plot.scatter(x='impressions',y='ctr')\n",
    "plt.axhline(y=0.01, color='r', linestyle='-')"
   ]
  },
  {
   "cell_type": "markdown",
   "metadata": {},
   "source": [
    "#### Notes:\n",
    "##### Turn it into a classifier problem by classifying ctr>=0.01 and ctr<0.01\n",
    "##### Because the goal is to reach overall ctr 1%\n",
    "##### Not going to remove points with low Impressions for now. "
   ]
  },
  {
   "cell_type": "code",
   "execution_count": 156,
   "metadata": {},
   "outputs": [],
   "source": [
    "# create the new binary target variable\n",
    "data1['CTR'] = np.where(data1['ctr']>=0.01, 1, 0)"
   ]
  },
  {
   "cell_type": "code",
   "execution_count": 157,
   "metadata": {},
   "outputs": [
    {
     "data": {
      "text/html": [
       "<div>\n",
       "<style scoped>\n",
       "    .dataframe tbody tr th:only-of-type {\n",
       "        vertical-align: middle;\n",
       "    }\n",
       "\n",
       "    .dataframe tbody tr th {\n",
       "        vertical-align: top;\n",
       "    }\n",
       "\n",
       "    .dataframe thead th {\n",
       "        text-align: right;\n",
       "    }\n",
       "</style>\n",
       "<table border=\"1\" class=\"dataframe\">\n",
       "  <thead>\n",
       "    <tr style=\"text-align: right;\">\n",
       "      <th></th>\n",
       "      <th>video_id</th>\n",
       "      <th>channel_id</th>\n",
       "      <th>channel_name</th>\n",
       "      <th>video_name</th>\n",
       "      <th>category</th>\n",
       "      <th>view_count</th>\n",
       "      <th>comment_count</th>\n",
       "      <th>length</th>\n",
       "      <th>shares</th>\n",
       "      <th>likes</th>\n",
       "      <th>dislikes</th>\n",
       "      <th>avg_view_percent</th>\n",
       "      <th>end_screen_element_id</th>\n",
       "      <th>end_screen_element_type</th>\n",
       "      <th>impressions</th>\n",
       "      <th>clicks</th>\n",
       "      <th>ctr</th>\n",
       "      <th>CTR</th>\n",
       "    </tr>\n",
       "  </thead>\n",
       "  <tbody>\n",
       "    <tr>\n",
       "      <th>5</th>\n",
       "      <td>W1Yx4lyavus</td>\n",
       "      <td>UCB9_VH_CNbbH4GfKu8qh63w</td>\n",
       "      <td>ScrewAttack</td>\n",
       "      <td>Daredevil (Marvel) VS Kenshi (Mortal Kombat) |...</td>\n",
       "      <td>Entertainment</td>\n",
       "      <td>401577</td>\n",
       "      <td>2009</td>\n",
       "      <td>126</td>\n",
       "      <td>912</td>\n",
       "      <td>11153</td>\n",
       "      <td>973</td>\n",
       "      <td>8.867963</td>\n",
       "      <td>2e557ce8-6b01-548d-d3af-c6beae238f2b</td>\n",
       "      <td>playlist</td>\n",
       "      <td>1858</td>\n",
       "      <td>42</td>\n",
       "      <td>0.022605</td>\n",
       "      <td>1</td>\n",
       "    </tr>\n",
       "    <tr>\n",
       "      <th>6</th>\n",
       "      <td>W1Yx4lyavus</td>\n",
       "      <td>UCB9_VH_CNbbH4GfKu8qh63w</td>\n",
       "      <td>ScrewAttack</td>\n",
       "      <td>Daredevil (Marvel) VS Kenshi (Mortal Kombat) |...</td>\n",
       "      <td>Entertainment</td>\n",
       "      <td>401577</td>\n",
       "      <td>2009</td>\n",
       "      <td>126</td>\n",
       "      <td>912</td>\n",
       "      <td>11153</td>\n",
       "      <td>973</td>\n",
       "      <td>8.867963</td>\n",
       "      <td>a24cd815-98ee-718b-c15b-110225cfbc78</td>\n",
       "      <td>playlist</td>\n",
       "      <td>96</td>\n",
       "      <td>4</td>\n",
       "      <td>0.041667</td>\n",
       "      <td>1</td>\n",
       "    </tr>\n",
       "    <tr>\n",
       "      <th>7</th>\n",
       "      <td>W1Yx4lyavus</td>\n",
       "      <td>UCB9_VH_CNbbH4GfKu8qh63w</td>\n",
       "      <td>ScrewAttack</td>\n",
       "      <td>Daredevil (Marvel) VS Kenshi (Mortal Kombat) |...</td>\n",
       "      <td>Entertainment</td>\n",
       "      <td>401577</td>\n",
       "      <td>2009</td>\n",
       "      <td>126</td>\n",
       "      <td>912</td>\n",
       "      <td>11153</td>\n",
       "      <td>973</td>\n",
       "      <td>8.867963</td>\n",
       "      <td>cd2dcb8c-67e3-4556-9afb-b60fbd1c4a76</td>\n",
       "      <td>video</td>\n",
       "      <td>155582</td>\n",
       "      <td>8436</td>\n",
       "      <td>0.054222</td>\n",
       "      <td>1</td>\n",
       "    </tr>\n",
       "    <tr>\n",
       "      <th>8</th>\n",
       "      <td>W1Yx4lyavus</td>\n",
       "      <td>UCB9_VH_CNbbH4GfKu8qh63w</td>\n",
       "      <td>ScrewAttack</td>\n",
       "      <td>Daredevil (Marvel) VS Kenshi (Mortal Kombat) |...</td>\n",
       "      <td>Entertainment</td>\n",
       "      <td>401577</td>\n",
       "      <td>2009</td>\n",
       "      <td>126</td>\n",
       "      <td>912</td>\n",
       "      <td>11153</td>\n",
       "      <td>973</td>\n",
       "      <td>8.867963</td>\n",
       "      <td>eb642f4f-bba7-cdb2-76fc-d8921332cbab</td>\n",
       "      <td>associated</td>\n",
       "      <td>2137</td>\n",
       "      <td>9</td>\n",
       "      <td>0.004212</td>\n",
       "      <td>0</td>\n",
       "    </tr>\n",
       "    <tr>\n",
       "      <th>9</th>\n",
       "      <td>W1Yx4lyavus</td>\n",
       "      <td>UCB9_VH_CNbbH4GfKu8qh63w</td>\n",
       "      <td>ScrewAttack</td>\n",
       "      <td>Daredevil (Marvel) VS Kenshi (Mortal Kombat) |...</td>\n",
       "      <td>Entertainment</td>\n",
       "      <td>401577</td>\n",
       "      <td>2009</td>\n",
       "      <td>126</td>\n",
       "      <td>912</td>\n",
       "      <td>11153</td>\n",
       "      <td>973</td>\n",
       "      <td>8.867963</td>\n",
       "      <td>e00b4e93-b058-4917-8598-f8ac51cb3a94</td>\n",
       "      <td>associated</td>\n",
       "      <td>155570</td>\n",
       "      <td>241</td>\n",
       "      <td>0.001549</td>\n",
       "      <td>0</td>\n",
       "    </tr>\n",
       "  </tbody>\n",
       "</table>\n",
       "</div>"
      ],
      "text/plain": [
       "      video_id                channel_id channel_name  \\\n",
       "5  W1Yx4lyavus  UCB9_VH_CNbbH4GfKu8qh63w  ScrewAttack   \n",
       "6  W1Yx4lyavus  UCB9_VH_CNbbH4GfKu8qh63w  ScrewAttack   \n",
       "7  W1Yx4lyavus  UCB9_VH_CNbbH4GfKu8qh63w  ScrewAttack   \n",
       "8  W1Yx4lyavus  UCB9_VH_CNbbH4GfKu8qh63w  ScrewAttack   \n",
       "9  W1Yx4lyavus  UCB9_VH_CNbbH4GfKu8qh63w  ScrewAttack   \n",
       "\n",
       "                                          video_name       category  \\\n",
       "5  Daredevil (Marvel) VS Kenshi (Mortal Kombat) |...  Entertainment   \n",
       "6  Daredevil (Marvel) VS Kenshi (Mortal Kombat) |...  Entertainment   \n",
       "7  Daredevil (Marvel) VS Kenshi (Mortal Kombat) |...  Entertainment   \n",
       "8  Daredevil (Marvel) VS Kenshi (Mortal Kombat) |...  Entertainment   \n",
       "9  Daredevil (Marvel) VS Kenshi (Mortal Kombat) |...  Entertainment   \n",
       "\n",
       "   view_count  comment_count  length  shares  likes  dislikes  \\\n",
       "5      401577           2009     126     912  11153       973   \n",
       "6      401577           2009     126     912  11153       973   \n",
       "7      401577           2009     126     912  11153       973   \n",
       "8      401577           2009     126     912  11153       973   \n",
       "9      401577           2009     126     912  11153       973   \n",
       "\n",
       "   avg_view_percent                 end_screen_element_id  \\\n",
       "5          8.867963  2e557ce8-6b01-548d-d3af-c6beae238f2b   \n",
       "6          8.867963  a24cd815-98ee-718b-c15b-110225cfbc78   \n",
       "7          8.867963  cd2dcb8c-67e3-4556-9afb-b60fbd1c4a76   \n",
       "8          8.867963  eb642f4f-bba7-cdb2-76fc-d8921332cbab   \n",
       "9          8.867963  e00b4e93-b058-4917-8598-f8ac51cb3a94   \n",
       "\n",
       "  end_screen_element_type  impressions  clicks       ctr  CTR  \n",
       "5                playlist         1858      42  0.022605    1  \n",
       "6                playlist           96       4  0.041667    1  \n",
       "7                   video       155582    8436  0.054222    1  \n",
       "8              associated         2137       9  0.004212    0  \n",
       "9              associated       155570     241  0.001549    0  "
      ]
     },
     "execution_count": 157,
     "metadata": {},
     "output_type": "execute_result"
    }
   ],
   "source": [
    "data1.head()"
   ]
  },
  {
   "cell_type": "code",
   "execution_count": 130,
   "metadata": {},
   "outputs": [
    {
     "data": {
      "text/plain": [
       "Index(['video_id', 'channel_id', 'channel_name', 'video_name', 'category',\n",
       "       'view_count', 'comment_count', 'length', 'shares', 'likes', 'dislikes',\n",
       "       'avg_view_percent', 'end_screen_element_id', 'end_screen_element_type',\n",
       "       'impressions', 'clicks', 'ctr', 'CTR'],\n",
       "      dtype='object')"
      ]
     },
     "execution_count": 130,
     "metadata": {},
     "output_type": "execute_result"
    }
   ],
   "source": [
    "data1.columns"
   ]
  },
  {
   "cell_type": "code",
   "execution_count": 160,
   "metadata": {},
   "outputs": [],
   "source": [
    "# remove redundant features\n",
    "data=data1[['CTR','view_count','comment_count','length','shares','likes','dislikes','avg_view_percent','impressions',\n",
    "           'end_screen_element_type','channel_name','category']]"
   ]
  },
  {
   "cell_type": "code",
   "execution_count": 161,
   "metadata": {},
   "outputs": [
    {
     "data": {
      "text/html": [
       "<div>\n",
       "<style scoped>\n",
       "    .dataframe tbody tr th:only-of-type {\n",
       "        vertical-align: middle;\n",
       "    }\n",
       "\n",
       "    .dataframe tbody tr th {\n",
       "        vertical-align: top;\n",
       "    }\n",
       "\n",
       "    .dataframe thead th {\n",
       "        text-align: right;\n",
       "    }\n",
       "</style>\n",
       "<table border=\"1\" class=\"dataframe\">\n",
       "  <thead>\n",
       "    <tr style=\"text-align: right;\">\n",
       "      <th></th>\n",
       "      <th>CTR</th>\n",
       "      <th>view_count</th>\n",
       "      <th>comment_count</th>\n",
       "      <th>length</th>\n",
       "      <th>shares</th>\n",
       "      <th>likes</th>\n",
       "      <th>dislikes</th>\n",
       "      <th>avg_view_percent</th>\n",
       "      <th>impressions</th>\n",
       "      <th>end_screen_element_type</th>\n",
       "      <th>channel_name</th>\n",
       "      <th>category</th>\n",
       "    </tr>\n",
       "  </thead>\n",
       "  <tbody>\n",
       "    <tr>\n",
       "      <th>5</th>\n",
       "      <td>1</td>\n",
       "      <td>401577</td>\n",
       "      <td>2009</td>\n",
       "      <td>126</td>\n",
       "      <td>912</td>\n",
       "      <td>11153</td>\n",
       "      <td>973</td>\n",
       "      <td>8.867963</td>\n",
       "      <td>1858</td>\n",
       "      <td>playlist</td>\n",
       "      <td>ScrewAttack</td>\n",
       "      <td>Entertainment</td>\n",
       "    </tr>\n",
       "    <tr>\n",
       "      <th>6</th>\n",
       "      <td>1</td>\n",
       "      <td>401577</td>\n",
       "      <td>2009</td>\n",
       "      <td>126</td>\n",
       "      <td>912</td>\n",
       "      <td>11153</td>\n",
       "      <td>973</td>\n",
       "      <td>8.867963</td>\n",
       "      <td>96</td>\n",
       "      <td>playlist</td>\n",
       "      <td>ScrewAttack</td>\n",
       "      <td>Entertainment</td>\n",
       "    </tr>\n",
       "    <tr>\n",
       "      <th>7</th>\n",
       "      <td>1</td>\n",
       "      <td>401577</td>\n",
       "      <td>2009</td>\n",
       "      <td>126</td>\n",
       "      <td>912</td>\n",
       "      <td>11153</td>\n",
       "      <td>973</td>\n",
       "      <td>8.867963</td>\n",
       "      <td>155582</td>\n",
       "      <td>video</td>\n",
       "      <td>ScrewAttack</td>\n",
       "      <td>Entertainment</td>\n",
       "    </tr>\n",
       "    <tr>\n",
       "      <th>8</th>\n",
       "      <td>0</td>\n",
       "      <td>401577</td>\n",
       "      <td>2009</td>\n",
       "      <td>126</td>\n",
       "      <td>912</td>\n",
       "      <td>11153</td>\n",
       "      <td>973</td>\n",
       "      <td>8.867963</td>\n",
       "      <td>2137</td>\n",
       "      <td>associated</td>\n",
       "      <td>ScrewAttack</td>\n",
       "      <td>Entertainment</td>\n",
       "    </tr>\n",
       "    <tr>\n",
       "      <th>9</th>\n",
       "      <td>0</td>\n",
       "      <td>401577</td>\n",
       "      <td>2009</td>\n",
       "      <td>126</td>\n",
       "      <td>912</td>\n",
       "      <td>11153</td>\n",
       "      <td>973</td>\n",
       "      <td>8.867963</td>\n",
       "      <td>155570</td>\n",
       "      <td>associated</td>\n",
       "      <td>ScrewAttack</td>\n",
       "      <td>Entertainment</td>\n",
       "    </tr>\n",
       "  </tbody>\n",
       "</table>\n",
       "</div>"
      ],
      "text/plain": [
       "   CTR  view_count  comment_count  length  shares  likes  dislikes  \\\n",
       "5    1      401577           2009     126     912  11153       973   \n",
       "6    1      401577           2009     126     912  11153       973   \n",
       "7    1      401577           2009     126     912  11153       973   \n",
       "8    0      401577           2009     126     912  11153       973   \n",
       "9    0      401577           2009     126     912  11153       973   \n",
       "\n",
       "   avg_view_percent  impressions end_screen_element_type channel_name  \\\n",
       "5          8.867963         1858                playlist  ScrewAttack   \n",
       "6          8.867963           96                playlist  ScrewAttack   \n",
       "7          8.867963       155582                   video  ScrewAttack   \n",
       "8          8.867963         2137              associated  ScrewAttack   \n",
       "9          8.867963       155570              associated  ScrewAttack   \n",
       "\n",
       "        category  \n",
       "5  Entertainment  \n",
       "6  Entertainment  \n",
       "7  Entertainment  \n",
       "8  Entertainment  \n",
       "9  Entertainment  "
      ]
     },
     "execution_count": 161,
     "metadata": {},
     "output_type": "execute_result"
    }
   ],
   "source": [
    "data.head()"
   ]
  },
  {
   "cell_type": "markdown",
   "metadata": {},
   "source": [
    "## Explorative Analysis"
   ]
  },
  {
   "cell_type": "code",
   "execution_count": 281,
   "metadata": {},
   "outputs": [
    {
     "data": {
      "text/html": [
       "<div>\n",
       "<style scoped>\n",
       "    .dataframe tbody tr th:only-of-type {\n",
       "        vertical-align: middle;\n",
       "    }\n",
       "\n",
       "    .dataframe tbody tr th {\n",
       "        vertical-align: top;\n",
       "    }\n",
       "\n",
       "    .dataframe thead th {\n",
       "        text-align: right;\n",
       "    }\n",
       "</style>\n",
       "<table border=\"1\" class=\"dataframe\">\n",
       "  <thead>\n",
       "    <tr style=\"text-align: right;\">\n",
       "      <th></th>\n",
       "      <th>view_count</th>\n",
       "      <th>comment_count</th>\n",
       "      <th>length</th>\n",
       "      <th>shares</th>\n",
       "      <th>likes</th>\n",
       "      <th>dislikes</th>\n",
       "      <th>avg_view_percent</th>\n",
       "      <th>impressions</th>\n",
       "    </tr>\n",
       "    <tr>\n",
       "      <th>CTR</th>\n",
       "      <th></th>\n",
       "      <th></th>\n",
       "      <th></th>\n",
       "      <th></th>\n",
       "      <th></th>\n",
       "      <th></th>\n",
       "      <th></th>\n",
       "      <th></th>\n",
       "    </tr>\n",
       "  </thead>\n",
       "  <tbody>\n",
       "    <tr>\n",
       "      <th>0</th>\n",
       "      <td>785633.238338</td>\n",
       "      <td>1764.849432</td>\n",
       "      <td>1345.657741</td>\n",
       "      <td>158.705685</td>\n",
       "      <td>1051.789368</td>\n",
       "      <td>27.345049</td>\n",
       "      <td>11.629216</td>\n",
       "      <td>4802.308943</td>\n",
       "    </tr>\n",
       "    <tr>\n",
       "      <th>1</th>\n",
       "      <td>903915.197897</td>\n",
       "      <td>2488.737764</td>\n",
       "      <td>1007.826386</td>\n",
       "      <td>291.375016</td>\n",
       "      <td>1806.654775</td>\n",
       "      <td>58.094004</td>\n",
       "      <td>12.021178</td>\n",
       "      <td>11838.417699</td>\n",
       "    </tr>\n",
       "  </tbody>\n",
       "</table>\n",
       "</div>"
      ],
      "text/plain": [
       "        view_count  comment_count       length      shares        likes  \\\n",
       "CTR                                                                       \n",
       "0    785633.238338    1764.849432  1345.657741  158.705685  1051.789368   \n",
       "1    903915.197897    2488.737764  1007.826386  291.375016  1806.654775   \n",
       "\n",
       "      dislikes  avg_view_percent   impressions  \n",
       "CTR                                             \n",
       "0    27.345049         11.629216   4802.308943  \n",
       "1    58.094004         12.021178  11838.417699  "
      ]
     },
     "execution_count": 281,
     "metadata": {},
     "output_type": "execute_result"
    }
   ],
   "source": [
    "data.groupby('CTR').mean()"
   ]
  },
  {
   "cell_type": "code",
   "execution_count": 282,
   "metadata": {},
   "outputs": [
    {
     "data": {
      "text/html": [
       "<div>\n",
       "<style scoped>\n",
       "    .dataframe tbody tr th:only-of-type {\n",
       "        vertical-align: middle;\n",
       "    }\n",
       "\n",
       "    .dataframe tbody tr th {\n",
       "        vertical-align: top;\n",
       "    }\n",
       "\n",
       "    .dataframe thead th {\n",
       "        text-align: right;\n",
       "    }\n",
       "</style>\n",
       "<table border=\"1\" class=\"dataframe\">\n",
       "  <thead>\n",
       "    <tr style=\"text-align: right;\">\n",
       "      <th></th>\n",
       "      <th>CTR</th>\n",
       "      <th>view_count</th>\n",
       "      <th>comment_count</th>\n",
       "      <th>length</th>\n",
       "      <th>shares</th>\n",
       "      <th>likes</th>\n",
       "      <th>dislikes</th>\n",
       "      <th>avg_view_percent</th>\n",
       "      <th>impressions</th>\n",
       "    </tr>\n",
       "    <tr>\n",
       "      <th>end_screen_element_type</th>\n",
       "      <th></th>\n",
       "      <th></th>\n",
       "      <th></th>\n",
       "      <th></th>\n",
       "      <th></th>\n",
       "      <th></th>\n",
       "      <th></th>\n",
       "      <th></th>\n",
       "      <th></th>\n",
       "    </tr>\n",
       "  </thead>\n",
       "  <tbody>\n",
       "    <tr>\n",
       "      <th>associated</th>\n",
       "      <td>0.055000</td>\n",
       "      <td>861555.741854</td>\n",
       "      <td>2096.156573</td>\n",
       "      <td>1208.923090</td>\n",
       "      <td>184.483427</td>\n",
       "      <td>1175.708371</td>\n",
       "      <td>33.975393</td>\n",
       "      <td>12.357210</td>\n",
       "      <td>3772.877697</td>\n",
       "    </tr>\n",
       "    <tr>\n",
       "      <th>best for viewer</th>\n",
       "      <td>0.768150</td>\n",
       "      <td>466222.623536</td>\n",
       "      <td>690.119438</td>\n",
       "      <td>1794.670375</td>\n",
       "      <td>101.165105</td>\n",
       "      <td>714.170375</td>\n",
       "      <td>15.185597</td>\n",
       "      <td>5.884038</td>\n",
       "      <td>13163.182670</td>\n",
       "    </tr>\n",
       "    <tr>\n",
       "      <th>channel</th>\n",
       "      <td>0.384615</td>\n",
       "      <td>503669.153846</td>\n",
       "      <td>2125.000000</td>\n",
       "      <td>978.230769</td>\n",
       "      <td>43.153846</td>\n",
       "      <td>514.230769</td>\n",
       "      <td>45.076923</td>\n",
       "      <td>8.739558</td>\n",
       "      <td>8028.384615</td>\n",
       "    </tr>\n",
       "    <tr>\n",
       "      <th>crowdfunding</th>\n",
       "      <td>0.500000</td>\n",
       "      <td>887157.000000</td>\n",
       "      <td>1096.500000</td>\n",
       "      <td>163.500000</td>\n",
       "      <td>533.500000</td>\n",
       "      <td>1751.500000</td>\n",
       "      <td>15.000000</td>\n",
       "      <td>21.252072</td>\n",
       "      <td>95320.000000</td>\n",
       "    </tr>\n",
       "    <tr>\n",
       "      <th>merchandise</th>\n",
       "      <td>0.000000</td>\n",
       "      <td>847611.161290</td>\n",
       "      <td>777.387097</td>\n",
       "      <td>2195.806452</td>\n",
       "      <td>83.225806</td>\n",
       "      <td>642.064516</td>\n",
       "      <td>19.967742</td>\n",
       "      <td>6.094090</td>\n",
       "      <td>17268.741935</td>\n",
       "    </tr>\n",
       "    <tr>\n",
       "      <th>playlist</th>\n",
       "      <td>0.250045</td>\n",
       "      <td>859679.006428</td>\n",
       "      <td>2073.978275</td>\n",
       "      <td>1209.777394</td>\n",
       "      <td>149.954705</td>\n",
       "      <td>930.294328</td>\n",
       "      <td>28.134992</td>\n",
       "      <td>12.574006</td>\n",
       "      <td>3620.386703</td>\n",
       "    </tr>\n",
       "    <tr>\n",
       "      <th>recent upload</th>\n",
       "      <td>0.200000</td>\n",
       "      <td>649287.000000</td>\n",
       "      <td>1770.600000</td>\n",
       "      <td>2318.400000</td>\n",
       "      <td>93.600000</td>\n",
       "      <td>531.800000</td>\n",
       "      <td>23.600000</td>\n",
       "      <td>3.057592</td>\n",
       "      <td>17489.800000</td>\n",
       "    </tr>\n",
       "    <tr>\n",
       "      <th>subscribe</th>\n",
       "      <td>0.008329</td>\n",
       "      <td>566732.000260</td>\n",
       "      <td>1084.318844</td>\n",
       "      <td>1623.199636</td>\n",
       "      <td>187.749610</td>\n",
       "      <td>1343.351119</td>\n",
       "      <td>39.919053</td>\n",
       "      <td>8.743251</td>\n",
       "      <td>17471.511452</td>\n",
       "    </tr>\n",
       "    <tr>\n",
       "      <th>video</th>\n",
       "      <td>0.446418</td>\n",
       "      <td>705500.308328</td>\n",
       "      <td>1510.617269</td>\n",
       "      <td>1394.819045</td>\n",
       "      <td>384.727495</td>\n",
       "      <td>2687.877220</td>\n",
       "      <td>53.940906</td>\n",
       "      <td>10.230891</td>\n",
       "      <td>14221.936926</td>\n",
       "    </tr>\n",
       "  </tbody>\n",
       "</table>\n",
       "</div>"
      ],
      "text/plain": [
       "                              CTR     view_count  comment_count       length  \\\n",
       "end_screen_element_type                                                        \n",
       "associated               0.055000  861555.741854    2096.156573  1208.923090   \n",
       "best for viewer          0.768150  466222.623536     690.119438  1794.670375   \n",
       "channel                  0.384615  503669.153846    2125.000000   978.230769   \n",
       "crowdfunding             0.500000  887157.000000    1096.500000   163.500000   \n",
       "merchandise              0.000000  847611.161290     777.387097  2195.806452   \n",
       "playlist                 0.250045  859679.006428    2073.978275  1209.777394   \n",
       "recent upload            0.200000  649287.000000    1770.600000  2318.400000   \n",
       "subscribe                0.008329  566732.000260    1084.318844  1623.199636   \n",
       "video                    0.446418  705500.308328    1510.617269  1394.819045   \n",
       "\n",
       "                             shares        likes   dislikes  avg_view_percent  \\\n",
       "end_screen_element_type                                                         \n",
       "associated               184.483427  1175.708371  33.975393         12.357210   \n",
       "best for viewer          101.165105   714.170375  15.185597          5.884038   \n",
       "channel                   43.153846   514.230769  45.076923          8.739558   \n",
       "crowdfunding             533.500000  1751.500000  15.000000         21.252072   \n",
       "merchandise               83.225806   642.064516  19.967742          6.094090   \n",
       "playlist                 149.954705   930.294328  28.134992         12.574006   \n",
       "recent upload             93.600000   531.800000  23.600000          3.057592   \n",
       "subscribe                187.749610  1343.351119  39.919053          8.743251   \n",
       "video                    384.727495  2687.877220  53.940906         10.230891   \n",
       "\n",
       "                          impressions  \n",
       "end_screen_element_type                \n",
       "associated                3772.877697  \n",
       "best for viewer          13163.182670  \n",
       "channel                   8028.384615  \n",
       "crowdfunding             95320.000000  \n",
       "merchandise              17268.741935  \n",
       "playlist                  3620.386703  \n",
       "recent upload            17489.800000  \n",
       "subscribe                17471.511452  \n",
       "video                    14221.936926  "
      ]
     },
     "execution_count": 282,
     "metadata": {},
     "output_type": "execute_result"
    }
   ],
   "source": [
    "data.groupby('end_screen_element_type').mean()"
   ]
  },
  {
   "cell_type": "code",
   "execution_count": 162,
   "metadata": {},
   "outputs": [
    {
     "data": {
      "image/png": "[encoded data removed]",
      "text/plain": [
       "<matplotlib.figure.Figure at 0x11816b3c8>"
      ]
     },
     "metadata": {},
     "output_type": "display_data"
    }
   ],
   "source": [
    "sns.countplot(x='CTR',data=data, palette='hls')\n",
    "plt.show()"
   ]
  },
  {
   "cell_type": "code",
   "execution_count": 289,
   "metadata": {},
   "outputs": [
    {
     "name": "stdout",
     "output_type": "stream",
     "text": [
      "% of CTR<1%: 0.8162096254716114\n",
      "% of CTR>=1%: 0.1837903745283887\n"
     ]
    }
   ],
   "source": [
    "count_0=len(data[data['CTR']==0])\n",
    "count_1=len(data[data['CTR']==1])\n",
    "print('% of CTR<1%:', count_0/(count_0+count_1))\n",
    "print('% of CTR>=1%:', count_1/(count_0+count_1))"
   ]
  },
  {
   "cell_type": "code",
   "execution_count": 164,
   "metadata": {},
   "outputs": [
    {
     "data": {
      "text/plain": [
       "<matplotlib.text.Text at 0x1180f3eb8>"
      ]
     },
     "execution_count": 164,
     "metadata": {},
     "output_type": "execute_result"
    },
    {
     "data": {
      "image/png": "[encoded data removed]",
      "text/plain": [
       "<matplotlib.figure.Figure at 0x117c56ef0>"
      ]
     },
     "metadata": {},
     "output_type": "display_data"
    }
   ],
   "source": [
    "data.groupby(['end_screen_element_type', 'CTR']).size().unstack().plot(kind='bar', title=\"End Screen Element Type\", figsize=(12,6))\n",
    "plt.ylabel('count')\n"
   ]
  },
  {
   "cell_type": "code",
   "execution_count": 165,
   "metadata": {},
   "outputs": [
    {
     "data": {
      "text/plain": [
       "end_screen_element_type  CTR\n",
       "associated               0      16821\n",
       "                         1        979\n",
       "best for viewer          0        396\n",
       "                         1       1312\n",
       "channel                  0          8\n",
       "                         1          5\n",
       "crowdfunding             0          1\n",
       "                         1          1\n",
       "merchandise              0         31\n",
       "playlist                 0      12600\n",
       "                         1       4201\n",
       "recent upload            0          4\n",
       "                         1          1\n",
       "subscribe                0       3810\n",
       "                         1         32\n",
       "video                    0       1808\n",
       "                         1       1458\n",
       "dtype: int64"
      ]
     },
     "execution_count": 165,
     "metadata": {},
     "output_type": "execute_result"
    }
   ],
   "source": [
    "data.groupby(['end_screen_element_type', 'CTR']).size()"
   ]
  },
  {
   "cell_type": "code",
   "execution_count": 166,
   "metadata": {},
   "outputs": [
    {
     "data": {
      "text/plain": [
       "<matplotlib.text.Text at 0x119f7f278>"
      ]
     },
     "execution_count": 166,
     "metadata": {},
     "output_type": "execute_result"
    },
    {
     "data": {
      "image/png": "[encoded data removed]",
      "text/plain": [
       "<matplotlib.figure.Figure at 0x119fa45c0>"
      ]
     },
     "metadata": {},
     "output_type": "display_data"
    }
   ],
   "source": [
    "data.groupby(['channel_name', 'CTR']).size().unstack().plot(kind='bar', title=\"Channel Name\", figsize=(12,6))\n",
    "plt.ylabel('count')"
   ]
  },
  {
   "cell_type": "code",
   "execution_count": 167,
   "metadata": {},
   "outputs": [
    {
     "data": {
      "text/plain": [
       "<matplotlib.text.Text at 0x118877518>"
      ]
     },
     "execution_count": 167,
     "metadata": {},
     "output_type": "execute_result"
    },
    {
     "data": {
      "image/png": "[encoded data removed]",
      "text/plain": [
       "<matplotlib.figure.Figure at 0x1173a64e0>"
      ]
     },
     "metadata": {},
     "output_type": "display_data"
    }
   ],
   "source": [
    "data.groupby(['category', 'CTR']).size().unstack().plot(kind='bar', title=\"Category\", figsize=(12,6))\n",
    "plt.ylabel('count')"
   ]
  },
  {
   "cell_type": "code",
   "execution_count": 168,
   "metadata": {},
   "outputs": [
    {
     "data": {
      "image/png": "[encoded data removed]",
      "text/plain": [
       "<matplotlib.figure.Figure at 0x117c562b0>"
      ]
     },
     "metadata": {},
     "output_type": "display_data"
    }
   ],
   "source": [
    "# Correlation between numerical features (view_count & comment_count are highly correlated)\n",
    "plt.figure(figsize=(6,6))\n",
    "sns.heatmap(data[['view_count','comment_count','length','shares','likes','dislikes']].corr(), annot=True)\n",
    "plt.show()"
   ]
  },
  {
   "cell_type": "markdown",
   "metadata": {},
   "source": [
    "## Prep Work For Modeling\n",
    "### Categorical Features -- One Hot Encoding\n",
    "### Numerical Features -- Standardizing"
   ]
  },
  {
   "cell_type": "code",
   "execution_count": null,
   "metadata": {},
   "outputs": [],
   "source": [
    "from sklearn.preprocessing import OneHotEncoder\n",
    "from sklearn import preprocessing"
   ]
  },
  {
   "cell_type": "code",
   "execution_count": 187,
   "metadata": {},
   "outputs": [],
   "source": [
    "from sklearn.model_selection import train_test_split"
   ]
  },
  {
   "cell_type": "code",
   "execution_count": 194,
   "metadata": {},
   "outputs": [],
   "source": [
    "\n",
    "features = range(1,12)\n",
    "X= data.iloc[:,features]\n",
    "y= data.iloc[:,0]\n",
    "X_train, X_test, y_train, y_test = train_test_split( X, y, test_size=0.2, random_state=42)"
   ]
  },
  {
   "cell_type": "code",
   "execution_count": 195,
   "metadata": {},
   "outputs": [
    {
     "data": {
      "text/plain": [
       "(34774, 11)"
      ]
     },
     "execution_count": 195,
     "metadata": {},
     "output_type": "execute_result"
    }
   ],
   "source": [
    "X_train.shape"
   ]
  },
  {
   "cell_type": "code",
   "execution_count": 196,
   "metadata": {},
   "outputs": [
    {
     "data": {
      "text/plain": [
       "(8694, 11)"
      ]
     },
     "execution_count": 196,
     "metadata": {},
     "output_type": "execute_result"
    }
   ],
   "source": [
    "X_test.shape\n"
   ]
  },
  {
   "cell_type": "code",
   "execution_count": 208,
   "metadata": {},
   "outputs": [
    {
     "data": {
      "text/html": [
       "<div>\n",
       "<style scoped>\n",
       "    .dataframe tbody tr th:only-of-type {\n",
       "        vertical-align: middle;\n",
       "    }\n",
       "\n",
       "    .dataframe tbody tr th {\n",
       "        vertical-align: top;\n",
       "    }\n",
       "\n",
       "    .dataframe thead th {\n",
       "        text-align: right;\n",
       "    }\n",
       "</style>\n",
       "<table border=\"1\" class=\"dataframe\">\n",
       "  <thead>\n",
       "    <tr style=\"text-align: right;\">\n",
       "      <th></th>\n",
       "      <th>view_count</th>\n",
       "      <th>comment_count</th>\n",
       "      <th>length</th>\n",
       "      <th>shares</th>\n",
       "      <th>likes</th>\n",
       "      <th>dislikes</th>\n",
       "      <th>avg_view_percent</th>\n",
       "      <th>impressions</th>\n",
       "      <th>end_screen_element_type</th>\n",
       "      <th>channel_name</th>\n",
       "      <th>category</th>\n",
       "    </tr>\n",
       "  </thead>\n",
       "  <tbody>\n",
       "    <tr>\n",
       "      <th>30512</th>\n",
       "      <td>192025</td>\n",
       "      <td>371</td>\n",
       "      <td>538</td>\n",
       "      <td>90</td>\n",
       "      <td>115</td>\n",
       "      <td>7</td>\n",
       "      <td>5.000000</td>\n",
       "      <td>635</td>\n",
       "      <td>associated</td>\n",
       "      <td>Rooster Teeth</td>\n",
       "      <td>Film &amp; Animation</td>\n",
       "    </tr>\n",
       "    <tr>\n",
       "      <th>29146</th>\n",
       "      <td>940950</td>\n",
       "      <td>3395</td>\n",
       "      <td>221</td>\n",
       "      <td>643</td>\n",
       "      <td>4650</td>\n",
       "      <td>40</td>\n",
       "      <td>6.083333</td>\n",
       "      <td>81</td>\n",
       "      <td>associated</td>\n",
       "      <td>Rooster Teeth</td>\n",
       "      <td>Film &amp; Animation</td>\n",
       "    </tr>\n",
       "    <tr>\n",
       "      <th>12800</th>\n",
       "      <td>347784</td>\n",
       "      <td>643</td>\n",
       "      <td>3026</td>\n",
       "      <td>70</td>\n",
       "      <td>704</td>\n",
       "      <td>29</td>\n",
       "      <td>1.878613</td>\n",
       "      <td>676</td>\n",
       "      <td>playlist</td>\n",
       "      <td>Achievement Hunter</td>\n",
       "      <td>Gadgets &amp; Games</td>\n",
       "    </tr>\n",
       "    <tr>\n",
       "      <th>8591</th>\n",
       "      <td>470191</td>\n",
       "      <td>706</td>\n",
       "      <td>1108</td>\n",
       "      <td>113</td>\n",
       "      <td>1513</td>\n",
       "      <td>10</td>\n",
       "      <td>0.902307</td>\n",
       "      <td>37066</td>\n",
       "      <td>video</td>\n",
       "      <td>Funhaus</td>\n",
       "      <td>Gadgets &amp; Games</td>\n",
       "    </tr>\n",
       "    <tr>\n",
       "      <th>31107</th>\n",
       "      <td>205157</td>\n",
       "      <td>176</td>\n",
       "      <td>159</td>\n",
       "      <td>3</td>\n",
       "      <td>154</td>\n",
       "      <td>4</td>\n",
       "      <td>2.554502</td>\n",
       "      <td>4</td>\n",
       "      <td>best for viewer</td>\n",
       "      <td>Rooster Teeth</td>\n",
       "      <td>Film &amp; Animation</td>\n",
       "    </tr>\n",
       "  </tbody>\n",
       "</table>\n",
       "</div>"
      ],
      "text/plain": [
       "       view_count  comment_count  length  shares  likes  dislikes  \\\n",
       "30512      192025            371     538      90    115         7   \n",
       "29146      940950           3395     221     643   4650        40   \n",
       "12800      347784            643    3026      70    704        29   \n",
       "8591       470191            706    1108     113   1513        10   \n",
       "31107      205157            176     159       3    154         4   \n",
       "\n",
       "       avg_view_percent  impressions end_screen_element_type  \\\n",
       "30512          5.000000          635              associated   \n",
       "29146          6.083333           81              associated   \n",
       "12800          1.878613          676                playlist   \n",
       "8591           0.902307        37066                   video   \n",
       "31107          2.554502            4         best for viewer   \n",
       "\n",
       "             channel_name          category  \n",
       "30512       Rooster Teeth  Film & Animation  \n",
       "29146       Rooster Teeth  Film & Animation  \n",
       "12800  Achievement Hunter   Gadgets & Games  \n",
       "8591              Funhaus   Gadgets & Games  \n",
       "31107       Rooster Teeth  Film & Animation  "
      ]
     },
     "execution_count": 208,
     "metadata": {},
     "output_type": "execute_result"
    }
   ],
   "source": [
    "X_train.head()"
   ]
  },
  {
   "cell_type": "markdown",
   "metadata": {},
   "source": [
    "#### One Hot Encoding"
   ]
  },
  {
   "cell_type": "code",
   "execution_count": 209,
   "metadata": {},
   "outputs": [
    {
     "data": {
      "text/html": [
       "<div>\n",
       "<style scoped>\n",
       "    .dataframe tbody tr th:only-of-type {\n",
       "        vertical-align: middle;\n",
       "    }\n",
       "\n",
       "    .dataframe tbody tr th {\n",
       "        vertical-align: top;\n",
       "    }\n",
       "\n",
       "    .dataframe thead th {\n",
       "        text-align: right;\n",
       "    }\n",
       "</style>\n",
       "<table border=\"1\" class=\"dataframe\">\n",
       "  <thead>\n",
       "    <tr style=\"text-align: right;\">\n",
       "      <th></th>\n",
       "      <th>end_screen_element_type</th>\n",
       "      <th>channel_name</th>\n",
       "      <th>category</th>\n",
       "    </tr>\n",
       "  </thead>\n",
       "  <tbody>\n",
       "    <tr>\n",
       "      <th>30512</th>\n",
       "      <td>associated</td>\n",
       "      <td>Rooster Teeth</td>\n",
       "      <td>Film &amp; Animation</td>\n",
       "    </tr>\n",
       "    <tr>\n",
       "      <th>29146</th>\n",
       "      <td>associated</td>\n",
       "      <td>Rooster Teeth</td>\n",
       "      <td>Film &amp; Animation</td>\n",
       "    </tr>\n",
       "    <tr>\n",
       "      <th>12800</th>\n",
       "      <td>playlist</td>\n",
       "      <td>Achievement Hunter</td>\n",
       "      <td>Gadgets &amp; Games</td>\n",
       "    </tr>\n",
       "  </tbody>\n",
       "</table>\n",
       "</div>"
      ],
      "text/plain": [
       "      end_screen_element_type        channel_name          category\n",
       "30512              associated       Rooster Teeth  Film & Animation\n",
       "29146              associated       Rooster Teeth  Film & Animation\n",
       "12800                playlist  Achievement Hunter   Gadgets & Games"
      ]
     },
     "execution_count": 209,
     "metadata": {},
     "output_type": "execute_result"
    }
   ],
   "source": [
    "# Train set One Hot Encoding\n",
    "A = X_train.select_dtypes(include=[object])\n",
    "A.head(3)"
   ]
  },
  {
   "cell_type": "code",
   "execution_count": 210,
   "metadata": {},
   "outputs": [
    {
     "data": {
      "text/html": [
       "<div>\n",
       "<style scoped>\n",
       "    .dataframe tbody tr th:only-of-type {\n",
       "        vertical-align: middle;\n",
       "    }\n",
       "\n",
       "    .dataframe tbody tr th {\n",
       "        vertical-align: top;\n",
       "    }\n",
       "\n",
       "    .dataframe thead th {\n",
       "        text-align: right;\n",
       "    }\n",
       "</style>\n",
       "<table border=\"1\" class=\"dataframe\">\n",
       "  <thead>\n",
       "    <tr style=\"text-align: right;\">\n",
       "      <th></th>\n",
       "      <th>end_screen_element_type</th>\n",
       "      <th>channel_name</th>\n",
       "      <th>category</th>\n",
       "    </tr>\n",
       "  </thead>\n",
       "  <tbody>\n",
       "    <tr>\n",
       "      <th>30512</th>\n",
       "      <td>0</td>\n",
       "      <td>3</td>\n",
       "      <td>4</td>\n",
       "    </tr>\n",
       "    <tr>\n",
       "      <th>29146</th>\n",
       "      <td>0</td>\n",
       "      <td>3</td>\n",
       "      <td>4</td>\n",
       "    </tr>\n",
       "    <tr>\n",
       "      <th>12800</th>\n",
       "      <td>4</td>\n",
       "      <td>0</td>\n",
       "      <td>5</td>\n",
       "    </tr>\n",
       "    <tr>\n",
       "      <th>8591</th>\n",
       "      <td>7</td>\n",
       "      <td>1</td>\n",
       "      <td>5</td>\n",
       "    </tr>\n",
       "    <tr>\n",
       "      <th>31107</th>\n",
       "      <td>1</td>\n",
       "      <td>3</td>\n",
       "      <td>4</td>\n",
       "    </tr>\n",
       "  </tbody>\n",
       "</table>\n",
       "</div>"
      ],
      "text/plain": [
       "       end_screen_element_type  channel_name  category\n",
       "30512                        0             3         4\n",
       "29146                        0             3         4\n",
       "12800                        4             0         5\n",
       "8591                         7             1         5\n",
       "31107                        1             3         4"
      ]
     },
     "execution_count": 210,
     "metadata": {},
     "output_type": "execute_result"
    }
   ],
   "source": [
    "# 1. INSTANTIATE\n",
    "# encode labels with value between 0 and n_classes-1.\n",
    "le = preprocessing.LabelEncoder()\n",
    "\n",
    "\n",
    "# 2/3. FIT AND TRANSFORM\n",
    "# use df.apply() to apply le.fit_transform to all columns\n",
    "A_2 = A.apply(le.fit_transform)\n",
    "A_2.head()"
   ]
  },
  {
   "cell_type": "code",
   "execution_count": 219,
   "metadata": {},
   "outputs": [
    {
     "data": {
      "text/plain": [
       "(34774, 3)"
      ]
     },
     "execution_count": 219,
     "metadata": {},
     "output_type": "execute_result"
    }
   ],
   "source": [
    "A_2.shape"
   ]
  },
  {
   "cell_type": "code",
   "execution_count": 216,
   "metadata": {},
   "outputs": [],
   "source": [
    "# 1. INSTANTIATE\n",
    "enc = preprocessing.OneHotEncoder()\n",
    "\n",
    "# 2. FIT\n",
    "enc.fit(A_2)\n",
    "\n",
    "# 3. Transform\n",
    "one_hot_A = enc.transform(A_2).toarray()\n"
   ]
  },
  {
   "cell_type": "code",
   "execution_count": 218,
   "metadata": {},
   "outputs": [
    {
     "data": {
      "text/plain": [
       "(34774, 29)"
      ]
     },
     "execution_count": 218,
     "metadata": {},
     "output_type": "execute_result"
    }
   ],
   "source": [
    "one_hot_A.shape"
   ]
  },
  {
   "cell_type": "code",
   "execution_count": 220,
   "metadata": {},
   "outputs": [],
   "source": [
    "one_hot_A=pd.DataFrame(one_hot_A)"
   ]
  },
  {
   "cell_type": "code",
   "execution_count": 223,
   "metadata": {},
   "outputs": [
    {
     "data": {
      "text/html": [
       "<div>\n",
       "<style scoped>\n",
       "    .dataframe tbody tr th:only-of-type {\n",
       "        vertical-align: middle;\n",
       "    }\n",
       "\n",
       "    .dataframe tbody tr th {\n",
       "        vertical-align: top;\n",
       "    }\n",
       "\n",
       "    .dataframe thead th {\n",
       "        text-align: right;\n",
       "    }\n",
       "</style>\n",
       "<table border=\"1\" class=\"dataframe\">\n",
       "  <thead>\n",
       "    <tr style=\"text-align: right;\">\n",
       "      <th></th>\n",
       "      <th>0</th>\n",
       "      <th>1</th>\n",
       "      <th>2</th>\n",
       "      <th>3</th>\n",
       "      <th>4</th>\n",
       "      <th>5</th>\n",
       "      <th>6</th>\n",
       "      <th>7</th>\n",
       "      <th>8</th>\n",
       "      <th>9</th>\n",
       "      <th>...</th>\n",
       "      <th>19</th>\n",
       "      <th>20</th>\n",
       "      <th>21</th>\n",
       "      <th>22</th>\n",
       "      <th>23</th>\n",
       "      <th>24</th>\n",
       "      <th>25</th>\n",
       "      <th>26</th>\n",
       "      <th>27</th>\n",
       "      <th>28</th>\n",
       "    </tr>\n",
       "  </thead>\n",
       "  <tbody>\n",
       "    <tr>\n",
       "      <th>0</th>\n",
       "      <td>1.0</td>\n",
       "      <td>0.0</td>\n",
       "      <td>0.0</td>\n",
       "      <td>0.0</td>\n",
       "      <td>0.0</td>\n",
       "      <td>0.0</td>\n",
       "      <td>0.0</td>\n",
       "      <td>0.0</td>\n",
       "      <td>0.0</td>\n",
       "      <td>0.0</td>\n",
       "      <td>...</td>\n",
       "      <td>0.0</td>\n",
       "      <td>0.0</td>\n",
       "      <td>0.0</td>\n",
       "      <td>0.0</td>\n",
       "      <td>0.0</td>\n",
       "      <td>0.0</td>\n",
       "      <td>0.0</td>\n",
       "      <td>0.0</td>\n",
       "      <td>0.0</td>\n",
       "      <td>0.0</td>\n",
       "    </tr>\n",
       "    <tr>\n",
       "      <th>1</th>\n",
       "      <td>1.0</td>\n",
       "      <td>0.0</td>\n",
       "      <td>0.0</td>\n",
       "      <td>0.0</td>\n",
       "      <td>0.0</td>\n",
       "      <td>0.0</td>\n",
       "      <td>0.0</td>\n",
       "      <td>0.0</td>\n",
       "      <td>0.0</td>\n",
       "      <td>0.0</td>\n",
       "      <td>...</td>\n",
       "      <td>0.0</td>\n",
       "      <td>0.0</td>\n",
       "      <td>0.0</td>\n",
       "      <td>0.0</td>\n",
       "      <td>0.0</td>\n",
       "      <td>0.0</td>\n",
       "      <td>0.0</td>\n",
       "      <td>0.0</td>\n",
       "      <td>0.0</td>\n",
       "      <td>0.0</td>\n",
       "    </tr>\n",
       "    <tr>\n",
       "      <th>2</th>\n",
       "      <td>0.0</td>\n",
       "      <td>0.0</td>\n",
       "      <td>0.0</td>\n",
       "      <td>0.0</td>\n",
       "      <td>1.0</td>\n",
       "      <td>0.0</td>\n",
       "      <td>0.0</td>\n",
       "      <td>0.0</td>\n",
       "      <td>1.0</td>\n",
       "      <td>0.0</td>\n",
       "      <td>...</td>\n",
       "      <td>0.0</td>\n",
       "      <td>0.0</td>\n",
       "      <td>0.0</td>\n",
       "      <td>0.0</td>\n",
       "      <td>0.0</td>\n",
       "      <td>0.0</td>\n",
       "      <td>0.0</td>\n",
       "      <td>0.0</td>\n",
       "      <td>0.0</td>\n",
       "      <td>0.0</td>\n",
       "    </tr>\n",
       "    <tr>\n",
       "      <th>3</th>\n",
       "      <td>0.0</td>\n",
       "      <td>0.0</td>\n",
       "      <td>0.0</td>\n",
       "      <td>0.0</td>\n",
       "      <td>0.0</td>\n",
       "      <td>0.0</td>\n",
       "      <td>0.0</td>\n",
       "      <td>1.0</td>\n",
       "      <td>0.0</td>\n",
       "      <td>1.0</td>\n",
       "      <td>...</td>\n",
       "      <td>0.0</td>\n",
       "      <td>0.0</td>\n",
       "      <td>0.0</td>\n",
       "      <td>0.0</td>\n",
       "      <td>0.0</td>\n",
       "      <td>0.0</td>\n",
       "      <td>0.0</td>\n",
       "      <td>0.0</td>\n",
       "      <td>0.0</td>\n",
       "      <td>0.0</td>\n",
       "    </tr>\n",
       "    <tr>\n",
       "      <th>4</th>\n",
       "      <td>0.0</td>\n",
       "      <td>1.0</td>\n",
       "      <td>0.0</td>\n",
       "      <td>0.0</td>\n",
       "      <td>0.0</td>\n",
       "      <td>0.0</td>\n",
       "      <td>0.0</td>\n",
       "      <td>0.0</td>\n",
       "      <td>0.0</td>\n",
       "      <td>0.0</td>\n",
       "      <td>...</td>\n",
       "      <td>0.0</td>\n",
       "      <td>0.0</td>\n",
       "      <td>0.0</td>\n",
       "      <td>0.0</td>\n",
       "      <td>0.0</td>\n",
       "      <td>0.0</td>\n",
       "      <td>0.0</td>\n",
       "      <td>0.0</td>\n",
       "      <td>0.0</td>\n",
       "      <td>0.0</td>\n",
       "    </tr>\n",
       "  </tbody>\n",
       "</table>\n",
       "<p>5 rows × 29 columns</p>\n",
       "</div>"
      ],
      "text/plain": [
       "    0    1    2    3    4    5    6    7    8    9  ...    19   20   21   22  \\\n",
       "0  1.0  0.0  0.0  0.0  0.0  0.0  0.0  0.0  0.0  0.0 ...   0.0  0.0  0.0  0.0   \n",
       "1  1.0  0.0  0.0  0.0  0.0  0.0  0.0  0.0  0.0  0.0 ...   0.0  0.0  0.0  0.0   \n",
       "2  0.0  0.0  0.0  0.0  1.0  0.0  0.0  0.0  1.0  0.0 ...   0.0  0.0  0.0  0.0   \n",
       "3  0.0  0.0  0.0  0.0  0.0  0.0  0.0  1.0  0.0  1.0 ...   0.0  0.0  0.0  0.0   \n",
       "4  0.0  1.0  0.0  0.0  0.0  0.0  0.0  0.0  0.0  0.0 ...   0.0  0.0  0.0  0.0   \n",
       "\n",
       "    23   24   25   26   27   28  \n",
       "0  0.0  0.0  0.0  0.0  0.0  0.0  \n",
       "1  0.0  0.0  0.0  0.0  0.0  0.0  \n",
       "2  0.0  0.0  0.0  0.0  0.0  0.0  \n",
       "3  0.0  0.0  0.0  0.0  0.0  0.0  \n",
       "4  0.0  0.0  0.0  0.0  0.0  0.0  \n",
       "\n",
       "[5 rows x 29 columns]"
      ]
     },
     "execution_count": 223,
     "metadata": {},
     "output_type": "execute_result"
    }
   ],
   "source": [
    "one_hot_A.head()"
   ]
  },
  {
   "cell_type": "code",
   "execution_count": 226,
   "metadata": {},
   "outputs": [
    {
     "data": {
      "text/html": [
       "<div>\n",
       "<style scoped>\n",
       "    .dataframe tbody tr th:only-of-type {\n",
       "        vertical-align: middle;\n",
       "    }\n",
       "\n",
       "    .dataframe tbody tr th {\n",
       "        vertical-align: top;\n",
       "    }\n",
       "\n",
       "    .dataframe thead th {\n",
       "        text-align: right;\n",
       "    }\n",
       "</style>\n",
       "<table border=\"1\" class=\"dataframe\">\n",
       "  <thead>\n",
       "    <tr style=\"text-align: right;\">\n",
       "      <th></th>\n",
       "      <th>view_count</th>\n",
       "      <th>comment_count</th>\n",
       "      <th>length</th>\n",
       "      <th>shares</th>\n",
       "      <th>likes</th>\n",
       "      <th>dislikes</th>\n",
       "      <th>avg_view_percent</th>\n",
       "      <th>impressions</th>\n",
       "    </tr>\n",
       "  </thead>\n",
       "  <tbody>\n",
       "    <tr>\n",
       "      <th>30512</th>\n",
       "      <td>192025</td>\n",
       "      <td>371</td>\n",
       "      <td>538</td>\n",
       "      <td>90</td>\n",
       "      <td>115</td>\n",
       "      <td>7</td>\n",
       "      <td>5.000000</td>\n",
       "      <td>635</td>\n",
       "    </tr>\n",
       "    <tr>\n",
       "      <th>29146</th>\n",
       "      <td>940950</td>\n",
       "      <td>3395</td>\n",
       "      <td>221</td>\n",
       "      <td>643</td>\n",
       "      <td>4650</td>\n",
       "      <td>40</td>\n",
       "      <td>6.083333</td>\n",
       "      <td>81</td>\n",
       "    </tr>\n",
       "    <tr>\n",
       "      <th>12800</th>\n",
       "      <td>347784</td>\n",
       "      <td>643</td>\n",
       "      <td>3026</td>\n",
       "      <td>70</td>\n",
       "      <td>704</td>\n",
       "      <td>29</td>\n",
       "      <td>1.878613</td>\n",
       "      <td>676</td>\n",
       "    </tr>\n",
       "    <tr>\n",
       "      <th>8591</th>\n",
       "      <td>470191</td>\n",
       "      <td>706</td>\n",
       "      <td>1108</td>\n",
       "      <td>113</td>\n",
       "      <td>1513</td>\n",
       "      <td>10</td>\n",
       "      <td>0.902307</td>\n",
       "      <td>37066</td>\n",
       "    </tr>\n",
       "    <tr>\n",
       "      <th>31107</th>\n",
       "      <td>205157</td>\n",
       "      <td>176</td>\n",
       "      <td>159</td>\n",
       "      <td>3</td>\n",
       "      <td>154</td>\n",
       "      <td>4</td>\n",
       "      <td>2.554502</td>\n",
       "      <td>4</td>\n",
       "    </tr>\n",
       "  </tbody>\n",
       "</table>\n",
       "</div>"
      ],
      "text/plain": [
       "       view_count  comment_count  length  shares  likes  dislikes  \\\n",
       "30512      192025            371     538      90    115         7   \n",
       "29146      940950           3395     221     643   4650        40   \n",
       "12800      347784            643    3026      70    704        29   \n",
       "8591       470191            706    1108     113   1513        10   \n",
       "31107      205157            176     159       3    154         4   \n",
       "\n",
       "       avg_view_percent  impressions  \n",
       "30512          5.000000          635  \n",
       "29146          6.083333           81  \n",
       "12800          1.878613          676  \n",
       "8591           0.902307        37066  \n",
       "31107          2.554502            4  "
      ]
     },
     "execution_count": 226,
     "metadata": {},
     "output_type": "execute_result"
    }
   ],
   "source": [
    "X_train_hot=X_train.iloc[:,range(0,8)]\n",
    "X_train_hot.head()"
   ]
  },
  {
   "cell_type": "code",
   "execution_count": 227,
   "metadata": {},
   "outputs": [],
   "source": [
    "X_train_hot=pd.concat([X_train_hot.reset_index(drop=True), one_hot_A], axis=1)\n",
    "#df_c = pd.concat([df_a.reset_index(drop=True), df_b], axis=1)"
   ]
  },
  {
   "cell_type": "code",
   "execution_count": 229,
   "metadata": {},
   "outputs": [
    {
     "data": {
      "text/html": [
       "<div>\n",
       "<style scoped>\n",
       "    .dataframe tbody tr th:only-of-type {\n",
       "        vertical-align: middle;\n",
       "    }\n",
       "\n",
       "    .dataframe tbody tr th {\n",
       "        vertical-align: top;\n",
       "    }\n",
       "\n",
       "    .dataframe thead th {\n",
       "        text-align: right;\n",
       "    }\n",
       "</style>\n",
       "<table border=\"1\" class=\"dataframe\">\n",
       "  <thead>\n",
       "    <tr style=\"text-align: right;\">\n",
       "      <th></th>\n",
       "      <th>view_count</th>\n",
       "      <th>comment_count</th>\n",
       "      <th>length</th>\n",
       "      <th>shares</th>\n",
       "      <th>likes</th>\n",
       "      <th>dislikes</th>\n",
       "      <th>avg_view_percent</th>\n",
       "      <th>impressions</th>\n",
       "      <th>0</th>\n",
       "      <th>1</th>\n",
       "      <th>...</th>\n",
       "      <th>19</th>\n",
       "      <th>20</th>\n",
       "      <th>21</th>\n",
       "      <th>22</th>\n",
       "      <th>23</th>\n",
       "      <th>24</th>\n",
       "      <th>25</th>\n",
       "      <th>26</th>\n",
       "      <th>27</th>\n",
       "      <th>28</th>\n",
       "    </tr>\n",
       "  </thead>\n",
       "  <tbody>\n",
       "    <tr>\n",
       "      <th>0</th>\n",
       "      <td>192025</td>\n",
       "      <td>371</td>\n",
       "      <td>538</td>\n",
       "      <td>90</td>\n",
       "      <td>115</td>\n",
       "      <td>7</td>\n",
       "      <td>5.000000</td>\n",
       "      <td>635</td>\n",
       "      <td>1.0</td>\n",
       "      <td>0.0</td>\n",
       "      <td>...</td>\n",
       "      <td>0.0</td>\n",
       "      <td>0.0</td>\n",
       "      <td>0.0</td>\n",
       "      <td>0.0</td>\n",
       "      <td>0.0</td>\n",
       "      <td>0.0</td>\n",
       "      <td>0.0</td>\n",
       "      <td>0.0</td>\n",
       "      <td>0.0</td>\n",
       "      <td>0.0</td>\n",
       "    </tr>\n",
       "    <tr>\n",
       "      <th>1</th>\n",
       "      <td>940950</td>\n",
       "      <td>3395</td>\n",
       "      <td>221</td>\n",
       "      <td>643</td>\n",
       "      <td>4650</td>\n",
       "      <td>40</td>\n",
       "      <td>6.083333</td>\n",
       "      <td>81</td>\n",
       "      <td>1.0</td>\n",
       "      <td>0.0</td>\n",
       "      <td>...</td>\n",
       "      <td>0.0</td>\n",
       "      <td>0.0</td>\n",
       "      <td>0.0</td>\n",
       "      <td>0.0</td>\n",
       "      <td>0.0</td>\n",
       "      <td>0.0</td>\n",
       "      <td>0.0</td>\n",
       "      <td>0.0</td>\n",
       "      <td>0.0</td>\n",
       "      <td>0.0</td>\n",
       "    </tr>\n",
       "    <tr>\n",
       "      <th>2</th>\n",
       "      <td>347784</td>\n",
       "      <td>643</td>\n",
       "      <td>3026</td>\n",
       "      <td>70</td>\n",
       "      <td>704</td>\n",
       "      <td>29</td>\n",
       "      <td>1.878613</td>\n",
       "      <td>676</td>\n",
       "      <td>0.0</td>\n",
       "      <td>0.0</td>\n",
       "      <td>...</td>\n",
       "      <td>0.0</td>\n",
       "      <td>0.0</td>\n",
       "      <td>0.0</td>\n",
       "      <td>0.0</td>\n",
       "      <td>0.0</td>\n",
       "      <td>0.0</td>\n",
       "      <td>0.0</td>\n",
       "      <td>0.0</td>\n",
       "      <td>0.0</td>\n",
       "      <td>0.0</td>\n",
       "    </tr>\n",
       "    <tr>\n",
       "      <th>3</th>\n",
       "      <td>470191</td>\n",
       "      <td>706</td>\n",
       "      <td>1108</td>\n",
       "      <td>113</td>\n",
       "      <td>1513</td>\n",
       "      <td>10</td>\n",
       "      <td>0.902307</td>\n",
       "      <td>37066</td>\n",
       "      <td>0.0</td>\n",
       "      <td>0.0</td>\n",
       "      <td>...</td>\n",
       "      <td>0.0</td>\n",
       "      <td>0.0</td>\n",
       "      <td>0.0</td>\n",
       "      <td>0.0</td>\n",
       "      <td>0.0</td>\n",
       "      <td>0.0</td>\n",
       "      <td>0.0</td>\n",
       "      <td>0.0</td>\n",
       "      <td>0.0</td>\n",
       "      <td>0.0</td>\n",
       "    </tr>\n",
       "    <tr>\n",
       "      <th>4</th>\n",
       "      <td>205157</td>\n",
       "      <td>176</td>\n",
       "      <td>159</td>\n",
       "      <td>3</td>\n",
       "      <td>154</td>\n",
       "      <td>4</td>\n",
       "      <td>2.554502</td>\n",
       "      <td>4</td>\n",
       "      <td>0.0</td>\n",
       "      <td>1.0</td>\n",
       "      <td>...</td>\n",
       "      <td>0.0</td>\n",
       "      <td>0.0</td>\n",
       "      <td>0.0</td>\n",
       "      <td>0.0</td>\n",
       "      <td>0.0</td>\n",
       "      <td>0.0</td>\n",
       "      <td>0.0</td>\n",
       "      <td>0.0</td>\n",
       "      <td>0.0</td>\n",
       "      <td>0.0</td>\n",
       "    </tr>\n",
       "  </tbody>\n",
       "</table>\n",
       "<p>5 rows × 37 columns</p>\n",
       "</div>"
      ],
      "text/plain": [
       "   view_count  comment_count  length  shares  likes  dislikes  \\\n",
       "0      192025            371     538      90    115         7   \n",
       "1      940950           3395     221     643   4650        40   \n",
       "2      347784            643    3026      70    704        29   \n",
       "3      470191            706    1108     113   1513        10   \n",
       "4      205157            176     159       3    154         4   \n",
       "\n",
       "   avg_view_percent  impressions    0    1 ...    19   20   21   22   23   24  \\\n",
       "0          5.000000          635  1.0  0.0 ...   0.0  0.0  0.0  0.0  0.0  0.0   \n",
       "1          6.083333           81  1.0  0.0 ...   0.0  0.0  0.0  0.0  0.0  0.0   \n",
       "2          1.878613          676  0.0  0.0 ...   0.0  0.0  0.0  0.0  0.0  0.0   \n",
       "3          0.902307        37066  0.0  0.0 ...   0.0  0.0  0.0  0.0  0.0  0.0   \n",
       "4          2.554502            4  0.0  1.0 ...   0.0  0.0  0.0  0.0  0.0  0.0   \n",
       "\n",
       "    25   26   27   28  \n",
       "0  0.0  0.0  0.0  0.0  \n",
       "1  0.0  0.0  0.0  0.0  \n",
       "2  0.0  0.0  0.0  0.0  \n",
       "3  0.0  0.0  0.0  0.0  \n",
       "4  0.0  0.0  0.0  0.0  \n",
       "\n",
       "[5 rows x 37 columns]"
      ]
     },
     "execution_count": 229,
     "metadata": {},
     "output_type": "execute_result"
    }
   ],
   "source": [
    "X_train_hot.head()"
   ]
  },
  {
   "cell_type": "code",
   "execution_count": 230,
   "metadata": {},
   "outputs": [
    {
     "data": {
      "text/html": [
       "<div>\n",
       "<style scoped>\n",
       "    .dataframe tbody tr th:only-of-type {\n",
       "        vertical-align: middle;\n",
       "    }\n",
       "\n",
       "    .dataframe tbody tr th {\n",
       "        vertical-align: top;\n",
       "    }\n",
       "\n",
       "    .dataframe thead th {\n",
       "        text-align: right;\n",
       "    }\n",
       "</style>\n",
       "<table border=\"1\" class=\"dataframe\">\n",
       "  <thead>\n",
       "    <tr style=\"text-align: right;\">\n",
       "      <th></th>\n",
       "      <th>end_screen_element_type</th>\n",
       "      <th>channel_name</th>\n",
       "      <th>category</th>\n",
       "    </tr>\n",
       "  </thead>\n",
       "  <tbody>\n",
       "    <tr>\n",
       "      <th>30179</th>\n",
       "      <td>5</td>\n",
       "      <td>3</td>\n",
       "      <td>4</td>\n",
       "    </tr>\n",
       "    <tr>\n",
       "      <th>10224</th>\n",
       "      <td>0</td>\n",
       "      <td>1</td>\n",
       "      <td>5</td>\n",
       "    </tr>\n",
       "    <tr>\n",
       "      <th>24907</th>\n",
       "      <td>5</td>\n",
       "      <td>2</td>\n",
       "      <td>5</td>\n",
       "    </tr>\n",
       "    <tr>\n",
       "      <th>39554</th>\n",
       "      <td>5</td>\n",
       "      <td>3</td>\n",
       "      <td>4</td>\n",
       "    </tr>\n",
       "    <tr>\n",
       "      <th>14358</th>\n",
       "      <td>5</td>\n",
       "      <td>0</td>\n",
       "      <td>5</td>\n",
       "    </tr>\n",
       "  </tbody>\n",
       "</table>\n",
       "</div>"
      ],
      "text/plain": [
       "       end_screen_element_type  channel_name  category\n",
       "30179                        5             3         4\n",
       "10224                        0             1         5\n",
       "24907                        5             2         5\n",
       "39554                        5             3         4\n",
       "14358                        5             0         5"
      ]
     },
     "execution_count": 230,
     "metadata": {},
     "output_type": "execute_result"
    }
   ],
   "source": [
    "# Test set One Hot Encoding\n",
    "B = X_test.select_dtypes(include=[object])\n",
    "B_2 = B.apply(le.fit_transform)\n",
    "B_2.head()"
   ]
  },
  {
   "cell_type": "code",
   "execution_count": 231,
   "metadata": {},
   "outputs": [
    {
     "data": {
      "text/plain": [
       "(8694, 3)"
      ]
     },
     "execution_count": 231,
     "metadata": {},
     "output_type": "execute_result"
    }
   ],
   "source": [
    "B_2.shape"
   ]
  },
  {
   "cell_type": "code",
   "execution_count": 232,
   "metadata": {},
   "outputs": [
    {
     "data": {
      "text/plain": [
       "(8694, 29)"
      ]
     },
     "execution_count": 232,
     "metadata": {},
     "output_type": "execute_result"
    }
   ],
   "source": [
    "enc.fit(B_2)\n",
    "one_hot_B = enc.transform(B_2).toarray()\n",
    "one_hot_B.shape"
   ]
  },
  {
   "cell_type": "code",
   "execution_count": 233,
   "metadata": {},
   "outputs": [],
   "source": [
    "one_hot_B=pd.DataFrame(one_hot_B)\n",
    "X_test_hot=X_test.iloc[:,range(0,8)]\n",
    "X_test_hot=pd.concat([X_test_hot.reset_index(drop=True), one_hot_B], axis=1)"
   ]
  },
  {
   "cell_type": "code",
   "execution_count": 234,
   "metadata": {},
   "outputs": [
    {
     "data": {
      "text/html": [
       "<div>\n",
       "<style scoped>\n",
       "    .dataframe tbody tr th:only-of-type {\n",
       "        vertical-align: middle;\n",
       "    }\n",
       "\n",
       "    .dataframe tbody tr th {\n",
       "        vertical-align: top;\n",
       "    }\n",
       "\n",
       "    .dataframe thead th {\n",
       "        text-align: right;\n",
       "    }\n",
       "</style>\n",
       "<table border=\"1\" class=\"dataframe\">\n",
       "  <thead>\n",
       "    <tr style=\"text-align: right;\">\n",
       "      <th></th>\n",
       "      <th>view_count</th>\n",
       "      <th>comment_count</th>\n",
       "      <th>length</th>\n",
       "      <th>shares</th>\n",
       "      <th>likes</th>\n",
       "      <th>dislikes</th>\n",
       "      <th>avg_view_percent</th>\n",
       "      <th>impressions</th>\n",
       "      <th>0</th>\n",
       "      <th>1</th>\n",
       "      <th>...</th>\n",
       "      <th>19</th>\n",
       "      <th>20</th>\n",
       "      <th>21</th>\n",
       "      <th>22</th>\n",
       "      <th>23</th>\n",
       "      <th>24</th>\n",
       "      <th>25</th>\n",
       "      <th>26</th>\n",
       "      <th>27</th>\n",
       "      <th>28</th>\n",
       "    </tr>\n",
       "  </thead>\n",
       "  <tbody>\n",
       "    <tr>\n",
       "      <th>0</th>\n",
       "      <td>350993</td>\n",
       "      <td>522</td>\n",
       "      <td>6085</td>\n",
       "      <td>100</td>\n",
       "      <td>185</td>\n",
       "      <td>10</td>\n",
       "      <td>0.284091</td>\n",
       "      <td>704</td>\n",
       "      <td>0.0</td>\n",
       "      <td>0.0</td>\n",
       "      <td>...</td>\n",
       "      <td>0.0</td>\n",
       "      <td>0.0</td>\n",
       "      <td>0.0</td>\n",
       "      <td>0.0</td>\n",
       "      <td>0.0</td>\n",
       "      <td>0.0</td>\n",
       "      <td>0.0</td>\n",
       "      <td>0.0</td>\n",
       "      <td>0.0</td>\n",
       "      <td>0.0</td>\n",
       "    </tr>\n",
       "    <tr>\n",
       "      <th>1</th>\n",
       "      <td>434801</td>\n",
       "      <td>1552</td>\n",
       "      <td>725</td>\n",
       "      <td>25</td>\n",
       "      <td>302</td>\n",
       "      <td>5</td>\n",
       "      <td>17.099099</td>\n",
       "      <td>246</td>\n",
       "      <td>1.0</td>\n",
       "      <td>0.0</td>\n",
       "      <td>...</td>\n",
       "      <td>0.0</td>\n",
       "      <td>0.0</td>\n",
       "      <td>0.0</td>\n",
       "      <td>0.0</td>\n",
       "      <td>0.0</td>\n",
       "      <td>0.0</td>\n",
       "      <td>0.0</td>\n",
       "      <td>0.0</td>\n",
       "      <td>0.0</td>\n",
       "      <td>0.0</td>\n",
       "    </tr>\n",
       "    <tr>\n",
       "      <th>2</th>\n",
       "      <td>1838783</td>\n",
       "      <td>8204</td>\n",
       "      <td>2305</td>\n",
       "      <td>34</td>\n",
       "      <td>90</td>\n",
       "      <td>5</td>\n",
       "      <td>6.937086</td>\n",
       "      <td>185</td>\n",
       "      <td>0.0</td>\n",
       "      <td>0.0</td>\n",
       "      <td>...</td>\n",
       "      <td>0.0</td>\n",
       "      <td>0.0</td>\n",
       "      <td>0.0</td>\n",
       "      <td>0.0</td>\n",
       "      <td>0.0</td>\n",
       "      <td>0.0</td>\n",
       "      <td>0.0</td>\n",
       "      <td>0.0</td>\n",
       "      <td>0.0</td>\n",
       "      <td>0.0</td>\n",
       "    </tr>\n",
       "    <tr>\n",
       "      <th>3</th>\n",
       "      <td>591020</td>\n",
       "      <td>739</td>\n",
       "      <td>117</td>\n",
       "      <td>2</td>\n",
       "      <td>6</td>\n",
       "      <td>2</td>\n",
       "      <td>4.413223</td>\n",
       "      <td>251</td>\n",
       "      <td>0.0</td>\n",
       "      <td>0.0</td>\n",
       "      <td>...</td>\n",
       "      <td>0.0</td>\n",
       "      <td>0.0</td>\n",
       "      <td>0.0</td>\n",
       "      <td>0.0</td>\n",
       "      <td>0.0</td>\n",
       "      <td>0.0</td>\n",
       "      <td>0.0</td>\n",
       "      <td>0.0</td>\n",
       "      <td>0.0</td>\n",
       "      <td>0.0</td>\n",
       "    </tr>\n",
       "    <tr>\n",
       "      <th>4</th>\n",
       "      <td>999873</td>\n",
       "      <td>963</td>\n",
       "      <td>572</td>\n",
       "      <td>353</td>\n",
       "      <td>3207</td>\n",
       "      <td>51</td>\n",
       "      <td>1.253149</td>\n",
       "      <td>5471</td>\n",
       "      <td>0.0</td>\n",
       "      <td>0.0</td>\n",
       "      <td>...</td>\n",
       "      <td>0.0</td>\n",
       "      <td>0.0</td>\n",
       "      <td>0.0</td>\n",
       "      <td>0.0</td>\n",
       "      <td>0.0</td>\n",
       "      <td>0.0</td>\n",
       "      <td>0.0</td>\n",
       "      <td>0.0</td>\n",
       "      <td>0.0</td>\n",
       "      <td>0.0</td>\n",
       "    </tr>\n",
       "  </tbody>\n",
       "</table>\n",
       "<p>5 rows × 37 columns</p>\n",
       "</div>"
      ],
      "text/plain": [
       "   view_count  comment_count  length  shares  likes  dislikes  \\\n",
       "0      350993            522    6085     100    185        10   \n",
       "1      434801           1552     725      25    302         5   \n",
       "2     1838783           8204    2305      34     90         5   \n",
       "3      591020            739     117       2      6         2   \n",
       "4      999873            963     572     353   3207        51   \n",
       "\n",
       "   avg_view_percent  impressions    0    1 ...    19   20   21   22   23   24  \\\n",
       "0          0.284091          704  0.0  0.0 ...   0.0  0.0  0.0  0.0  0.0  0.0   \n",
       "1         17.099099          246  1.0  0.0 ...   0.0  0.0  0.0  0.0  0.0  0.0   \n",
       "2          6.937086          185  0.0  0.0 ...   0.0  0.0  0.0  0.0  0.0  0.0   \n",
       "3          4.413223          251  0.0  0.0 ...   0.0  0.0  0.0  0.0  0.0  0.0   \n",
       "4          1.253149         5471  0.0  0.0 ...   0.0  0.0  0.0  0.0  0.0  0.0   \n",
       "\n",
       "    25   26   27   28  \n",
       "0  0.0  0.0  0.0  0.0  \n",
       "1  0.0  0.0  0.0  0.0  \n",
       "2  0.0  0.0  0.0  0.0  \n",
       "3  0.0  0.0  0.0  0.0  \n",
       "4  0.0  0.0  0.0  0.0  \n",
       "\n",
       "[5 rows x 37 columns]"
      ]
     },
     "execution_count": 234,
     "metadata": {},
     "output_type": "execute_result"
    }
   ],
   "source": [
    "X_test_hot.head()"
   ]
  },
  {
   "cell_type": "code",
   "execution_count": 235,
   "metadata": {},
   "outputs": [
    {
     "data": {
      "text/plain": [
       "(8694, 37)"
      ]
     },
     "execution_count": 235,
     "metadata": {},
     "output_type": "execute_result"
    }
   ],
   "source": [
    "X_test_hot.shape"
   ]
  },
  {
   "cell_type": "markdown",
   "metadata": {},
   "source": [
    "#### Standardizing Numerical Features"
   ]
  },
  {
   "cell_type": "code",
   "execution_count": 236,
   "metadata": {},
   "outputs": [],
   "source": [
    "from sklearn.preprocessing import StandardScaler"
   ]
  },
  {
   "cell_type": "code",
   "execution_count": 237,
   "metadata": {},
   "outputs": [],
   "source": [
    "X_train_hot.iloc[:,range(0,8)]=StandardScaler().fit_transform(X_train_hot.iloc[:,range(0,8)])"
   ]
  },
  {
   "cell_type": "code",
   "execution_count": 238,
   "metadata": {},
   "outputs": [
    {
     "data": {
      "text/html": [
       "<div>\n",
       "<style scoped>\n",
       "    .dataframe tbody tr th:only-of-type {\n",
       "        vertical-align: middle;\n",
       "    }\n",
       "\n",
       "    .dataframe tbody tr th {\n",
       "        vertical-align: top;\n",
       "    }\n",
       "\n",
       "    .dataframe thead th {\n",
       "        text-align: right;\n",
       "    }\n",
       "</style>\n",
       "<table border=\"1\" class=\"dataframe\">\n",
       "  <thead>\n",
       "    <tr style=\"text-align: right;\">\n",
       "      <th></th>\n",
       "      <th>view_count</th>\n",
       "      <th>comment_count</th>\n",
       "      <th>length</th>\n",
       "      <th>shares</th>\n",
       "      <th>likes</th>\n",
       "      <th>dislikes</th>\n",
       "      <th>avg_view_percent</th>\n",
       "      <th>impressions</th>\n",
       "      <th>0</th>\n",
       "      <th>1</th>\n",
       "      <th>...</th>\n",
       "      <th>19</th>\n",
       "      <th>20</th>\n",
       "      <th>21</th>\n",
       "      <th>22</th>\n",
       "      <th>23</th>\n",
       "      <th>24</th>\n",
       "      <th>25</th>\n",
       "      <th>26</th>\n",
       "      <th>27</th>\n",
       "      <th>28</th>\n",
       "    </tr>\n",
       "  </thead>\n",
       "  <tbody>\n",
       "    <tr>\n",
       "      <th>0</th>\n",
       "      <td>-0.548247</td>\n",
       "      <td>-0.280545</td>\n",
       "      <td>-0.455900</td>\n",
       "      <td>-0.137958</td>\n",
       "      <td>-0.405325</td>\n",
       "      <td>-0.119772</td>\n",
       "      <td>-0.501638</td>\n",
       "      <td>-0.237529</td>\n",
       "      <td>1.0</td>\n",
       "      <td>0.0</td>\n",
       "      <td>...</td>\n",
       "      <td>0.0</td>\n",
       "      <td>0.0</td>\n",
       "      <td>0.0</td>\n",
       "      <td>0.0</td>\n",
       "      <td>0.0</td>\n",
       "      <td>0.0</td>\n",
       "      <td>0.0</td>\n",
       "      <td>0.0</td>\n",
       "      <td>0.0</td>\n",
       "      <td>0.0</td>\n",
       "    </tr>\n",
       "    <tr>\n",
       "      <th>1</th>\n",
       "      <td>0.117305</td>\n",
       "      <td>0.273591</td>\n",
       "      <td>-0.650515</td>\n",
       "      <td>0.681139</td>\n",
       "      <td>1.296795</td>\n",
       "      <td>0.032069</td>\n",
       "      <td>-0.420815</td>\n",
       "      <td>-0.261692</td>\n",
       "      <td>1.0</td>\n",
       "      <td>0.0</td>\n",
       "      <td>...</td>\n",
       "      <td>0.0</td>\n",
       "      <td>0.0</td>\n",
       "      <td>0.0</td>\n",
       "      <td>0.0</td>\n",
       "      <td>0.0</td>\n",
       "      <td>0.0</td>\n",
       "      <td>0.0</td>\n",
       "      <td>0.0</td>\n",
       "      <td>0.0</td>\n",
       "      <td>0.0</td>\n",
       "    </tr>\n",
       "    <tr>\n",
       "      <th>2</th>\n",
       "      <td>-0.409828</td>\n",
       "      <td>-0.230702</td>\n",
       "      <td>1.071556</td>\n",
       "      <td>-0.167582</td>\n",
       "      <td>-0.184256</td>\n",
       "      <td>-0.018545</td>\n",
       "      <td>-0.734512</td>\n",
       "      <td>-0.235741</td>\n",
       "      <td>0.0</td>\n",
       "      <td>0.0</td>\n",
       "      <td>...</td>\n",
       "      <td>0.0</td>\n",
       "      <td>0.0</td>\n",
       "      <td>0.0</td>\n",
       "      <td>0.0</td>\n",
       "      <td>0.0</td>\n",
       "      <td>0.0</td>\n",
       "      <td>0.0</td>\n",
       "      <td>0.0</td>\n",
       "      <td>0.0</td>\n",
       "      <td>0.0</td>\n",
       "    </tr>\n",
       "    <tr>\n",
       "      <th>3</th>\n",
       "      <td>-0.301047</td>\n",
       "      <td>-0.219158</td>\n",
       "      <td>-0.105960</td>\n",
       "      <td>-0.103891</td>\n",
       "      <td>0.119386</td>\n",
       "      <td>-0.105969</td>\n",
       "      <td>-0.807350</td>\n",
       "      <td>1.351399</td>\n",
       "      <td>0.0</td>\n",
       "      <td>0.0</td>\n",
       "      <td>...</td>\n",
       "      <td>0.0</td>\n",
       "      <td>0.0</td>\n",
       "      <td>0.0</td>\n",
       "      <td>0.0</td>\n",
       "      <td>0.0</td>\n",
       "      <td>0.0</td>\n",
       "      <td>0.0</td>\n",
       "      <td>0.0</td>\n",
       "      <td>0.0</td>\n",
       "      <td>0.0</td>\n",
       "    </tr>\n",
       "    <tr>\n",
       "      <th>4</th>\n",
       "      <td>-0.536577</td>\n",
       "      <td>-0.316278</td>\n",
       "      <td>-0.688579</td>\n",
       "      <td>-0.266821</td>\n",
       "      <td>-0.390687</td>\n",
       "      <td>-0.133576</td>\n",
       "      <td>-0.684086</td>\n",
       "      <td>-0.265050</td>\n",
       "      <td>0.0</td>\n",
       "      <td>1.0</td>\n",
       "      <td>...</td>\n",
       "      <td>0.0</td>\n",
       "      <td>0.0</td>\n",
       "      <td>0.0</td>\n",
       "      <td>0.0</td>\n",
       "      <td>0.0</td>\n",
       "      <td>0.0</td>\n",
       "      <td>0.0</td>\n",
       "      <td>0.0</td>\n",
       "      <td>0.0</td>\n",
       "      <td>0.0</td>\n",
       "    </tr>\n",
       "  </tbody>\n",
       "</table>\n",
       "<p>5 rows × 37 columns</p>\n",
       "</div>"
      ],
      "text/plain": [
       "   view_count  comment_count    length    shares     likes  dislikes  \\\n",
       "0   -0.548247      -0.280545 -0.455900 -0.137958 -0.405325 -0.119772   \n",
       "1    0.117305       0.273591 -0.650515  0.681139  1.296795  0.032069   \n",
       "2   -0.409828      -0.230702  1.071556 -0.167582 -0.184256 -0.018545   \n",
       "3   -0.301047      -0.219158 -0.105960 -0.103891  0.119386 -0.105969   \n",
       "4   -0.536577      -0.316278 -0.688579 -0.266821 -0.390687 -0.133576   \n",
       "\n",
       "   avg_view_percent  impressions    0    1 ...    19   20   21   22   23   24  \\\n",
       "0         -0.501638    -0.237529  1.0  0.0 ...   0.0  0.0  0.0  0.0  0.0  0.0   \n",
       "1         -0.420815    -0.261692  1.0  0.0 ...   0.0  0.0  0.0  0.0  0.0  0.0   \n",
       "2         -0.734512    -0.235741  0.0  0.0 ...   0.0  0.0  0.0  0.0  0.0  0.0   \n",
       "3         -0.807350     1.351399  0.0  0.0 ...   0.0  0.0  0.0  0.0  0.0  0.0   \n",
       "4         -0.684086    -0.265050  0.0  1.0 ...   0.0  0.0  0.0  0.0  0.0  0.0   \n",
       "\n",
       "    25   26   27   28  \n",
       "0  0.0  0.0  0.0  0.0  \n",
       "1  0.0  0.0  0.0  0.0  \n",
       "2  0.0  0.0  0.0  0.0  \n",
       "3  0.0  0.0  0.0  0.0  \n",
       "4  0.0  0.0  0.0  0.0  \n",
       "\n",
       "[5 rows x 37 columns]"
      ]
     },
     "execution_count": 238,
     "metadata": {},
     "output_type": "execute_result"
    }
   ],
   "source": [
    "X_train_hot.head()"
   ]
  },
  {
   "cell_type": "code",
   "execution_count": 240,
   "metadata": {},
   "outputs": [
    {
     "data": {
      "text/plain": [
       "1.0000287579443821"
      ]
     },
     "execution_count": 240,
     "metadata": {},
     "output_type": "execute_result"
    }
   ],
   "source": [
    "X_train_hot['view_count'].var()"
   ]
  },
  {
   "cell_type": "code",
   "execution_count": 241,
   "metadata": {},
   "outputs": [
    {
     "data": {
      "text/plain": [
       "-1.3690217776478608e-17"
      ]
     },
     "execution_count": 241,
     "metadata": {},
     "output_type": "execute_result"
    }
   ],
   "source": [
    "X_train_hot['view_count'].mean()"
   ]
  },
  {
   "cell_type": "code",
   "execution_count": 242,
   "metadata": {},
   "outputs": [
    {
     "data": {
      "text/html": [
       "<div>\n",
       "<style scoped>\n",
       "    .dataframe tbody tr th:only-of-type {\n",
       "        vertical-align: middle;\n",
       "    }\n",
       "\n",
       "    .dataframe tbody tr th {\n",
       "        vertical-align: top;\n",
       "    }\n",
       "\n",
       "    .dataframe thead th {\n",
       "        text-align: right;\n",
       "    }\n",
       "</style>\n",
       "<table border=\"1\" class=\"dataframe\">\n",
       "  <thead>\n",
       "    <tr style=\"text-align: right;\">\n",
       "      <th></th>\n",
       "      <th>view_count</th>\n",
       "      <th>comment_count</th>\n",
       "      <th>length</th>\n",
       "      <th>shares</th>\n",
       "      <th>likes</th>\n",
       "      <th>dislikes</th>\n",
       "      <th>avg_view_percent</th>\n",
       "      <th>impressions</th>\n",
       "      <th>0</th>\n",
       "      <th>1</th>\n",
       "      <th>...</th>\n",
       "      <th>19</th>\n",
       "      <th>20</th>\n",
       "      <th>21</th>\n",
       "      <th>22</th>\n",
       "      <th>23</th>\n",
       "      <th>24</th>\n",
       "      <th>25</th>\n",
       "      <th>26</th>\n",
       "      <th>27</th>\n",
       "      <th>28</th>\n",
       "    </tr>\n",
       "  </thead>\n",
       "  <tbody>\n",
       "    <tr>\n",
       "      <th>0</th>\n",
       "      <td>-0.409542</td>\n",
       "      <td>-0.241659</td>\n",
       "      <td>2.867431</td>\n",
       "      <td>-0.115519</td>\n",
       "      <td>-0.384642</td>\n",
       "      <td>-0.118580</td>\n",
       "      <td>-0.854265</td>\n",
       "      <td>-0.234008</td>\n",
       "      <td>0.0</td>\n",
       "      <td>0.0</td>\n",
       "      <td>...</td>\n",
       "      <td>0.0</td>\n",
       "      <td>0.0</td>\n",
       "      <td>0.0</td>\n",
       "      <td>0.0</td>\n",
       "      <td>0.0</td>\n",
       "      <td>0.0</td>\n",
       "      <td>0.0</td>\n",
       "      <td>0.0</td>\n",
       "      <td>0.0</td>\n",
       "      <td>0.0</td>\n",
       "    </tr>\n",
       "    <tr>\n",
       "      <th>1</th>\n",
       "      <td>-0.333281</td>\n",
       "      <td>-0.058579</td>\n",
       "      <td>-0.341529</td>\n",
       "      <td>-0.220050</td>\n",
       "      <td>-0.339090</td>\n",
       "      <td>-0.144516</td>\n",
       "      <td>0.413920</td>\n",
       "      <td>-0.253677</td>\n",
       "      <td>1.0</td>\n",
       "      <td>0.0</td>\n",
       "      <td>...</td>\n",
       "      <td>0.0</td>\n",
       "      <td>0.0</td>\n",
       "      <td>0.0</td>\n",
       "      <td>0.0</td>\n",
       "      <td>0.0</td>\n",
       "      <td>0.0</td>\n",
       "      <td>0.0</td>\n",
       "      <td>0.0</td>\n",
       "      <td>0.0</td>\n",
       "      <td>0.0</td>\n",
       "    </tr>\n",
       "    <tr>\n",
       "      <th>2</th>\n",
       "      <td>0.944279</td>\n",
       "      <td>1.123799</td>\n",
       "      <td>0.604396</td>\n",
       "      <td>-0.207506</td>\n",
       "      <td>-0.421628</td>\n",
       "      <td>-0.144516</td>\n",
       "      <td>-0.352497</td>\n",
       "      <td>-0.256297</td>\n",
       "      <td>0.0</td>\n",
       "      <td>0.0</td>\n",
       "      <td>...</td>\n",
       "      <td>0.0</td>\n",
       "      <td>0.0</td>\n",
       "      <td>0.0</td>\n",
       "      <td>0.0</td>\n",
       "      <td>0.0</td>\n",
       "      <td>0.0</td>\n",
       "      <td>0.0</td>\n",
       "      <td>0.0</td>\n",
       "      <td>0.0</td>\n",
       "      <td>0.0</td>\n",
       "    </tr>\n",
       "    <tr>\n",
       "      <th>3</th>\n",
       "      <td>-0.191129</td>\n",
       "      <td>-0.203088</td>\n",
       "      <td>-0.705530</td>\n",
       "      <td>-0.252106</td>\n",
       "      <td>-0.454331</td>\n",
       "      <td>-0.160077</td>\n",
       "      <td>-0.542846</td>\n",
       "      <td>-0.253462</td>\n",
       "      <td>0.0</td>\n",
       "      <td>0.0</td>\n",
       "      <td>...</td>\n",
       "      <td>0.0</td>\n",
       "      <td>0.0</td>\n",
       "      <td>0.0</td>\n",
       "      <td>0.0</td>\n",
       "      <td>0.0</td>\n",
       "      <td>0.0</td>\n",
       "      <td>0.0</td>\n",
       "      <td>0.0</td>\n",
       "      <td>0.0</td>\n",
       "      <td>0.0</td>\n",
       "    </tr>\n",
       "    <tr>\n",
       "      <th>4</th>\n",
       "      <td>0.180909</td>\n",
       "      <td>-0.163273</td>\n",
       "      <td>-0.433128</td>\n",
       "      <td>0.237096</td>\n",
       "      <td>0.791905</td>\n",
       "      <td>0.094090</td>\n",
       "      <td>-0.781178</td>\n",
       "      <td>-0.029291</td>\n",
       "      <td>0.0</td>\n",
       "      <td>0.0</td>\n",
       "      <td>...</td>\n",
       "      <td>0.0</td>\n",
       "      <td>0.0</td>\n",
       "      <td>0.0</td>\n",
       "      <td>0.0</td>\n",
       "      <td>0.0</td>\n",
       "      <td>0.0</td>\n",
       "      <td>0.0</td>\n",
       "      <td>0.0</td>\n",
       "      <td>0.0</td>\n",
       "      <td>0.0</td>\n",
       "    </tr>\n",
       "  </tbody>\n",
       "</table>\n",
       "<p>5 rows × 37 columns</p>\n",
       "</div>"
      ],
      "text/plain": [
       "   view_count  comment_count    length    shares     likes  dislikes  \\\n",
       "0   -0.409542      -0.241659  2.867431 -0.115519 -0.384642 -0.118580   \n",
       "1   -0.333281      -0.058579 -0.341529 -0.220050 -0.339090 -0.144516   \n",
       "2    0.944279       1.123799  0.604396 -0.207506 -0.421628 -0.144516   \n",
       "3   -0.191129      -0.203088 -0.705530 -0.252106 -0.454331 -0.160077   \n",
       "4    0.180909      -0.163273 -0.433128  0.237096  0.791905  0.094090   \n",
       "\n",
       "   avg_view_percent  impressions    0    1 ...    19   20   21   22   23   24  \\\n",
       "0         -0.854265    -0.234008  0.0  0.0 ...   0.0  0.0  0.0  0.0  0.0  0.0   \n",
       "1          0.413920    -0.253677  1.0  0.0 ...   0.0  0.0  0.0  0.0  0.0  0.0   \n",
       "2         -0.352497    -0.256297  0.0  0.0 ...   0.0  0.0  0.0  0.0  0.0  0.0   \n",
       "3         -0.542846    -0.253462  0.0  0.0 ...   0.0  0.0  0.0  0.0  0.0  0.0   \n",
       "4         -0.781178    -0.029291  0.0  0.0 ...   0.0  0.0  0.0  0.0  0.0  0.0   \n",
       "\n",
       "    25   26   27   28  \n",
       "0  0.0  0.0  0.0  0.0  \n",
       "1  0.0  0.0  0.0  0.0  \n",
       "2  0.0  0.0  0.0  0.0  \n",
       "3  0.0  0.0  0.0  0.0  \n",
       "4  0.0  0.0  0.0  0.0  \n",
       "\n",
       "[5 rows x 37 columns]"
      ]
     },
     "execution_count": 242,
     "metadata": {},
     "output_type": "execute_result"
    }
   ],
   "source": [
    "X_test_hot.iloc[:,range(0,8)]=StandardScaler().fit_transform(X_test_hot.iloc[:,range(0,8)])\n",
    "X_test_hot.head()"
   ]
  },
  {
   "cell_type": "markdown",
   "metadata": {},
   "source": [
    "## Modeling\n",
    "### Logistic Regression\n",
    "#### Model1: default setting "
   ]
  },
  {
   "cell_type": "code",
   "execution_count": 244,
   "metadata": {},
   "outputs": [
    {
     "data": {
      "text/plain": [
       "LogisticRegression(C=1.0, class_weight=None, dual=False, fit_intercept=True,\n",
       "          intercept_scaling=1, max_iter=100, multi_class='ovr', n_jobs=1,\n",
       "          penalty='l2', random_state=None, solver='liblinear', tol=0.0001,\n",
       "          verbose=0, warm_start=False)"
      ]
     },
     "execution_count": 244,
     "metadata": {},
     "output_type": "execute_result"
    }
   ],
   "source": [
    "from sklearn.linear_model import LogisticRegression\n",
    "from sklearn.metrics import log_loss\n",
    "l = LogisticRegression()\n",
    "l.fit(X_train_hot,y_train)\n"
   ]
  },
  {
   "cell_type": "code",
   "execution_count": 253,
   "metadata": {},
   "outputs": [
    {
     "name": "stdout",
     "output_type": "stream",
     "text": [
      "Log Loss 0.372149562091\n"
     ]
    }
   ],
   "source": [
    "\n",
    "y_pred=l.predict_proba(X_test_hot)[:,1]\n",
    "print('Log Loss',log_loss(y_test,y_pred))"
   ]
  },
  {
   "cell_type": "code",
   "execution_count": 254,
   "metadata": {},
   "outputs": [
    {
     "data": {
      "text/plain": [
       "DescribeResult(nobs=8694, minmax=(0.001089480008625902, 0.99507066538069044), mean=0.16466670900206393, variance=0.032542851960263117, skewness=2.0003871848485146, kurtosis=4.106877535144458)"
      ]
     },
     "execution_count": 254,
     "metadata": {},
     "output_type": "execute_result"
    }
   ],
   "source": [
    "from scipy import stats\n",
    "stats.describe(y_pred)"
   ]
  },
  {
   "cell_type": "code",
   "execution_count": 255,
   "metadata": {},
   "outputs": [
    {
     "data": {
      "text/plain": [
       "array([ 0.06479188,  0.05659286,  0.11407422, ...,  0.23834553,\n",
       "        0.22654686,  0.04938181])"
      ]
     },
     "execution_count": 255,
     "metadata": {},
     "output_type": "execute_result"
    }
   ],
   "source": [
    "y_pred  # predicted probability for CTR>=1%"
   ]
  },
  {
   "cell_type": "code",
   "execution_count": 264,
   "metadata": {},
   "outputs": [],
   "source": [
    "y_pred2 = l.predict(X_test_hot) # this returns the predicted labels (threshold P>0.5)"
   ]
  },
  {
   "cell_type": "code",
   "execution_count": 263,
   "metadata": {},
   "outputs": [
    {
     "name": "stdout",
     "output_type": "stream",
     "text": [
      "Accuracy of logistic regression classifier on test set: 0.8452956061651714\n"
     ]
    }
   ],
   "source": [
    "print('Accuracy of logistic regression classifier on test set:',l.score(X_test_hot,y_test))\n",
    "#Returns the mean accuracy on the given test data and labels"
   ]
  },
  {
   "cell_type": "markdown",
   "metadata": {},
   "source": [
    "##### Confusion Matrix"
   ]
  },
  {
   "cell_type": "code",
   "execution_count": 265,
   "metadata": {},
   "outputs": [
    {
     "name": "stdout",
     "output_type": "stream",
     "text": [
      "[[6928  135]\n",
      " [1210  421]]\n"
     ]
    }
   ],
   "source": [
    "\n",
    "from sklearn.metrics import confusion_matrix\n",
    "confusion_matrix_logit = confusion_matrix(y_test, y_pred2)\n",
    "print(confusion_matrix_logit)"
   ]
  },
  {
   "cell_type": "code",
   "execution_count": 276,
   "metadata": {},
   "outputs": [
    {
     "data": {
      "text/plain": [
       "0.8452956061651714"
      ]
     },
     "execution_count": 276,
     "metadata": {},
     "output_type": "execute_result"
    }
   ],
   "source": [
    "(6928+421)/(135+1210+6928+421)"
   ]
  },
  {
   "cell_type": "code",
   "execution_count": 266,
   "metadata": {},
   "outputs": [
    {
     "name": "stdout",
     "output_type": "stream",
     "text": [
      "             precision    recall  f1-score   support\n",
      "\n",
      "          0       0.85      0.98      0.91      7063\n",
      "          1       0.76      0.26      0.39      1631\n",
      "\n",
      "avg / total       0.83      0.85      0.81      8694\n",
      "\n"
     ]
    }
   ],
   "source": [
    "from sklearn.metrics import classification_report\n",
    "print(classification_report(y_test, y_pred2))"
   ]
  },
  {
   "cell_type": "code",
   "execution_count": 284,
   "metadata": {},
   "outputs": [
    {
     "data": {
      "text/plain": [
       "0.25812385039852853"
      ]
     },
     "execution_count": 284,
     "metadata": {},
     "output_type": "execute_result"
    }
   ],
   "source": [
    "from sklearn.metrics import recall_score\n",
    "recall_score(y_test, y_pred2)"
   ]
  },
  {
   "cell_type": "code",
   "execution_count": 286,
   "metadata": {},
   "outputs": [
    {
     "data": {
      "text/plain": [
       "0.38500228623685417"
      ]
     },
     "execution_count": 286,
     "metadata": {},
     "output_type": "execute_result"
    }
   ],
   "source": [
    "from sklearn.metrics import f1_score\n",
    "f1_score(y_test, y_pred2)"
   ]
  },
  {
   "cell_type": "code",
   "execution_count": 280,
   "metadata": {},
   "outputs": [
    {
     "data": {
      "text/plain": [
       "0.8124476650563607"
      ]
     },
     "execution_count": 280,
     "metadata": {},
     "output_type": "execute_result"
    }
   ],
   "source": [
    "# How is F-1 score caluclated?\n",
    "(2*0.76*0.26)/(0.76+0.26) # 0.39\n",
    "(0.91*7063+0.39*1631)/(8694)"
   ]
  },
  {
   "cell_type": "code",
   "execution_count": 270,
   "metadata": {},
   "outputs": [],
   "source": [
    "from sklearn.metrics import roc_auc_score\n",
    "logit_roc_auc = roc_auc_score(y_test, l.predict(X_test_hot))"
   ]
  },
  {
   "cell_type": "code",
   "execution_count": 275,
   "metadata": {},
   "outputs": [
    {
     "name": "stdout",
     "output_type": "stream",
     "text": [
      "AUC: 0.619505079666\n"
     ]
    }
   ],
   "source": [
    "print('AUC:', logit_roc_auc)"
   ]
  },
  {
   "cell_type": "code",
   "execution_count": 272,
   "metadata": {},
   "outputs": [
    {
     "data": {
      "text/plain": [
       "(array([  0.00000000e+00,   0.00000000e+00,   1.41582897e-04, ...,\n",
       "          9.84709047e-01,   9.84709047e-01,   1.00000000e+00]),\n",
       " array([  6.13120785e-04,   1.22624157e-03,   1.22624157e-03, ...,\n",
       "          9.99386879e-01,   1.00000000e+00,   1.00000000e+00]),\n",
       " array([ 0.99507067,  0.99196068,  0.98195234, ...,  0.0031181 ,\n",
       "         0.00308139,  0.00108948]))"
      ]
     },
     "execution_count": 272,
     "metadata": {},
     "output_type": "execute_result"
    }
   ],
   "source": [
    "from sklearn.metrics import roc_curve\n",
    "logit_roc_auc = roc_auc_score(y_test, l.predict(X_test_hot))\n",
    "fpr, tpr, thresholds = roc_curve(y_test, l.predict_proba(X_test_hot)[:,1])\n",
    "fpr, tpr, thresholds"
   ]
  },
  {
   "cell_type": "code",
   "execution_count": 274,
   "metadata": {},
   "outputs": [
    {
     "data": {
      "image/png": "[encoded data removed]",
      "text/plain": [
       "<matplotlib.figure.Figure at 0x11fcba828>"
      ]
     },
     "metadata": {},
     "output_type": "display_data"
    }
   ],
   "source": [
    "plt.figure()\n",
    "plt.plot(fpr, tpr, label='Logistic Regression (area = %0.2f)' % logit_roc_auc)\n",
    "plt.plot([0, 1], [0, 1],'r--')\n",
    "plt.xlim([0.0, 1.0])\n",
    "plt.ylim([0.0, 1.05])\n",
    "plt.xlabel('False Positive Rate')\n",
    "plt.ylabel('True Positive Rate')\n",
    "#plt.title('Receiver operating characteristic')\n",
    "plt.legend(loc=\"lower right\")\n",
    "plt.savefig('Log_ROC')\n",
    "plt.show()"
   ]
  },
  {
   "cell_type": "markdown",
   "metadata": {},
   "source": [
    "What else can be done for Logsitic Model:\n",
    "<br>\n",
    "Combine some levels in the categorical features\n",
    "<br>\n",
    "Use Oversampling or other methods to achieve balanced data, or try set class_weight='balanced'\n",
    "<br>\n",
    "Look into P-Values and select only important features"
   ]
  },
  {
   "cell_type": "markdown",
   "metadata": {},
   "source": [
    "#### Model2: balanced weight "
   ]
  },
  {
   "cell_type": "code",
   "execution_count": 290,
   "metadata": {},
   "outputs": [
    {
     "data": {
      "text/plain": [
       "LogisticRegression(C=1.0, class_weight='balanced', dual=False,\n",
       "          fit_intercept=True, intercept_scaling=1, max_iter=100,\n",
       "          multi_class='ovr', n_jobs=1, penalty='l2', random_state=None,\n",
       "          solver='liblinear', tol=0.0001, verbose=0, warm_start=False)"
      ]
     },
     "execution_count": 290,
     "metadata": {},
     "output_type": "execute_result"
    }
   ],
   "source": [
    "l2 = LogisticRegression(class_weight='balanced')\n",
    "l2.fit(X_train_hot,y_train)"
   ]
  },
  {
   "cell_type": "code",
   "execution_count": 291,
   "metadata": {},
   "outputs": [
    {
     "name": "stdout",
     "output_type": "stream",
     "text": [
      "Log Loss 0.472810272365\n"
     ]
    }
   ],
   "source": [
    "y_pred=l2.predict_proba(X_test_hot)[:,1]\n",
    "print('Log Loss',log_loss(y_test,y_pred))"
   ]
  },
  {
   "cell_type": "code",
   "execution_count": 292,
   "metadata": {},
   "outputs": [],
   "source": [
    "y_pred2 = l2.predict(X_test_hot)"
   ]
  },
  {
   "cell_type": "code",
   "execution_count": 293,
   "metadata": {},
   "outputs": [
    {
     "name": "stdout",
     "output_type": "stream",
     "text": [
      "Accuracy of logistic regression classifier on test set: 0.793305728088\n"
     ]
    }
   ],
   "source": [
    "print('Accuracy of logistic regression classifier on test set:',l2.score(X_test_hot,y_test))"
   ]
  },
  {
   "cell_type": "code",
   "execution_count": 294,
   "metadata": {},
   "outputs": [
    {
     "name": "stdout",
     "output_type": "stream",
     "text": [
      "[[5795 1268]\n",
      " [ 529 1102]]\n"
     ]
    }
   ],
   "source": [
    "confusion_matrix_logit = confusion_matrix(y_test, y_pred2)\n",
    "print(confusion_matrix_logit)"
   ]
  },
  {
   "cell_type": "code",
   "execution_count": 295,
   "metadata": {},
   "outputs": [
    {
     "name": "stdout",
     "output_type": "stream",
     "text": [
      "             precision    recall  f1-score   support\n",
      "\n",
      "          0       0.92      0.82      0.87      7063\n",
      "          1       0.46      0.68      0.55      1631\n",
      "\n",
      "avg / total       0.83      0.79      0.81      8694\n",
      "\n"
     ]
    }
   ],
   "source": [
    "print(classification_report(y_test, y_pred2))"
   ]
  },
  {
   "cell_type": "code",
   "execution_count": 296,
   "metadata": {},
   "outputs": [
    {
     "name": "stdout",
     "output_type": "stream",
     "text": [
      "AUC: 0.748065995859\n"
     ]
    }
   ],
   "source": [
    "logit_roc_auc = roc_auc_score(y_test, l2.predict(X_test_hot))\n",
    "print('AUC:', logit_roc_auc)"
   ]
  },
  {
   "cell_type": "code",
   "execution_count": null,
   "metadata": {},
   "outputs": [],
   "source": []
  }
 ],
 "metadata": {
  "kernelspec": {
   "display_name": "Python 3",
   "language": "python",
   "name": "python3"
  },
  "language_info": {
   "codemirror_mode": {
    "name": "ipython",
    "version": 3
   },
   "file_extension": ".py",
   "mimetype": "text/x-python",
   "name": "python",
   "nbconvert_exporter": "python",
   "pygments_lexer": "ipython3",
   "version": "3.6.2"
  }
 },
 "nbformat": 4,
 "nbformat_minor": 2
}
